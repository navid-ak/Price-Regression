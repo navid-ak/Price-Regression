{
 "cells": [
  {
   "cell_type": "markdown",
   "metadata": {},
   "source": [
    "<img src=\"Images/1200px-University_of_Tehran_logo.svg.png\" width=\"100\" style=\"float:left;\"/>\n",
    "\n",
    "<img src=\"Images/fanni.png\" width=\"120\" style=\"float:right;position: relative;top: -25px;\"/>\n",
    "\n",
    "\n",
    "<h1 style=\"float:center;\" align=\"center\"> Final Project </h1>\n",
    "<h3 style=\"float:center;\" align=\"center\"><b> Navid Akbari ( 810895023 ) </b></h3>"
   ]
  },
  {
   "cell_type": "markdown",
   "metadata": {},
   "source": [
    "The goal of this project is to implement a model for guessing the price of cellphones. The dataset is for one of the Iranian companies, and we are going to use this dataset. We should use regression algorithms or solving the problem."
   ]
  },
  {
   "cell_type": "code",
   "execution_count": 1,
   "metadata": {},
   "outputs": [],
   "source": [
    "from hazm import *\n",
    "import pandas as pd\n",
    "import re, random, codecs, string\n",
    "import numpy as np\n",
    "import seaborn as sns\n",
    "import matplotlib.pyplot as plt\n",
    "from sklearn.linear_model import LinearRegression\n",
    "from sklearn.feature_selection import mutual_info_regression\n",
    "from sklearn.model_selection import train_test_split\n",
    "from sklearn import metrics\n",
    "from sklearn.preprocessing import LabelEncoder, StandardScaler\n",
    "from sklearn import preprocessing\n",
    "from sklearn import linear_model\n",
    "from sklearn import tree\n",
    "from sklearn.ensemble import RandomForestRegressor\n",
    "from sklearn.neighbors import KNeighborsRegressor\n",
    "from sklearn.pipeline import Pipeline\n",
    "from sklearn.feature_extraction.text import TfidfVectorizer\n",
    "pd.set_option('mode.chained_assignment', None)"
   ]
  },
  {
   "cell_type": "markdown",
   "metadata": {},
   "source": [
    "First, we read data from the file and analyze some features of it. I seperate the validation data here and I will use it at the end of the project."
   ]
  },
  {
   "cell_type": "code",
   "execution_count": 2,
   "metadata": {},
   "outputs": [
    {
     "name": "stdout",
     "output_type": "stream",
     "text": [
      "<class 'pandas.core.frame.DataFrame'>\n",
      "Int64Index: 53301 entries, 0 to 59188\n",
      "Data columns (total 8 columns):\n",
      "Unnamed: 0     53301 non-null int64\n",
      "brand          53301 non-null object\n",
      "city           53301 non-null object\n",
      "title          53301 non-null object\n",
      "desc           53301 non-null object\n",
      "image_count    53301 non-null int64\n",
      "created_at     53301 non-null object\n",
      "price          53301 non-null int64\n",
      "dtypes: int64(3), object(5)\n",
      "memory usage: 3.7+ MB\n"
     ]
    }
   ],
   "source": [
    "data = pd.read_csv('mobile_phone_dataset.csv')\n",
    "validation_data = data[data['price'] == -1]\n",
    "data = data[data['price'] > 0]\n",
    "data.info()"
   ]
  },
  {
   "cell_type": "code",
   "execution_count": 3,
   "metadata": {},
   "outputs": [
    {
     "data": {
      "text/html": [
       "<div>\n",
       "<style scoped>\n",
       "    .dataframe tbody tr th:only-of-type {\n",
       "        vertical-align: middle;\n",
       "    }\n",
       "\n",
       "    .dataframe tbody tr th {\n",
       "        vertical-align: top;\n",
       "    }\n",
       "\n",
       "    .dataframe thead th {\n",
       "        text-align: right;\n",
       "    }\n",
       "</style>\n",
       "<table border=\"1\" class=\"dataframe\">\n",
       "  <thead>\n",
       "    <tr style=\"text-align: right;\">\n",
       "      <th></th>\n",
       "      <th>Unnamed: 0</th>\n",
       "      <th>brand</th>\n",
       "      <th>city</th>\n",
       "      <th>title</th>\n",
       "      <th>desc</th>\n",
       "      <th>image_count</th>\n",
       "      <th>created_at</th>\n",
       "      <th>price</th>\n",
       "    </tr>\n",
       "  </thead>\n",
       "  <tbody>\n",
       "    <tr>\n",
       "      <th>0</th>\n",
       "      <td>0</td>\n",
       "      <td>Nokia::نوکیا</td>\n",
       "      <td>Qom</td>\n",
       "      <td>نوکیا6303</td>\n",
       "      <td>سلام.یه گوشیه6303سالم که فقط دوتا خط کوچیک رو ...</td>\n",
       "      <td>2</td>\n",
       "      <td>Wednesday 07AM</td>\n",
       "      <td>60000</td>\n",
       "    </tr>\n",
       "    <tr>\n",
       "      <th>1</th>\n",
       "      <td>1</td>\n",
       "      <td>Apple::اپل</td>\n",
       "      <td>Tehran</td>\n",
       "      <td>ایفون ٥اس٣٢گیگ</td>\n",
       "      <td>درحد نو سالم اصلى بدون ضربه مهلت تست میدم</td>\n",
       "      <td>0</td>\n",
       "      <td>Wednesday 11AM</td>\n",
       "      <td>1150000</td>\n",
       "    </tr>\n",
       "    <tr>\n",
       "      <th>2</th>\n",
       "      <td>2</td>\n",
       "      <td>Samsung::سامسونگ</td>\n",
       "      <td>Mashhad</td>\n",
       "      <td>سامسونگ j5</td>\n",
       "      <td>گوشى بسیار بسیار تمیز و فقط سه هفته کارکرده و ...</td>\n",
       "      <td>2</td>\n",
       "      <td>Wednesday 02PM</td>\n",
       "      <td>590000</td>\n",
       "    </tr>\n",
       "    <tr>\n",
       "      <th>3</th>\n",
       "      <td>3</td>\n",
       "      <td>Apple::اپل</td>\n",
       "      <td>Karaj</td>\n",
       "      <td>گرى 5s ایفون  32گیگ</td>\n",
       "      <td>گلس پشت و رو .کارت اپل ای دی. لوازم جانبی اصلی...</td>\n",
       "      <td>3</td>\n",
       "      <td>Wednesday 04PM</td>\n",
       "      <td>1100000</td>\n",
       "    </tr>\n",
       "    <tr>\n",
       "      <th>4</th>\n",
       "      <td>4</td>\n",
       "      <td>Samsung::سامسونگ</td>\n",
       "      <td>Tehran</td>\n",
       "      <td>galaxy S5 Gold در حد آک</td>\n",
       "      <td>کاملا تمیز و بدون حتی 1 خط و خش\\nبه همراه گلاس...</td>\n",
       "      <td>2</td>\n",
       "      <td>Friday 01PM</td>\n",
       "      <td>900000</td>\n",
       "    </tr>\n",
       "  </tbody>\n",
       "</table>\n",
       "</div>"
      ],
      "text/plain": [
       "   Unnamed: 0             brand     city                    title  \\\n",
       "0           0      Nokia::نوکیا      Qom                نوکیا6303   \n",
       "1           1        Apple::اپل   Tehran           ایفون ٥اس٣٢گیگ   \n",
       "2           2  Samsung::سامسونگ  Mashhad               سامسونگ j5   \n",
       "3           3        Apple::اپل    Karaj      گرى 5s ایفون  32گیگ   \n",
       "4           4  Samsung::سامسونگ   Tehran  galaxy S5 Gold در حد آک   \n",
       "\n",
       "                                                desc  image_count  \\\n",
       "0  سلام.یه گوشیه6303سالم که فقط دوتا خط کوچیک رو ...            2   \n",
       "1          درحد نو سالم اصلى بدون ضربه مهلت تست میدم            0   \n",
       "2  گوشى بسیار بسیار تمیز و فقط سه هفته کارکرده و ...            2   \n",
       "3  گلس پشت و رو .کارت اپل ای دی. لوازم جانبی اصلی...            3   \n",
       "4  کاملا تمیز و بدون حتی 1 خط و خش\\nبه همراه گلاس...            2   \n",
       "\n",
       "       created_at    price  \n",
       "0  Wednesday 07AM    60000  \n",
       "1  Wednesday 11AM  1150000  \n",
       "2  Wednesday 02PM   590000  \n",
       "3  Wednesday 04PM  1100000  \n",
       "4     Friday 01PM   900000  "
      ]
     },
     "execution_count": 3,
     "metadata": {},
     "output_type": "execute_result"
    }
   ],
   "source": [
    "data.head()"
   ]
  },
  {
   "cell_type": "markdown",
   "metadata": {},
   "source": [
    "As we can see here, the price attribute has a high variance and its mean is about 620 thousand Rials."
   ]
  },
  {
   "cell_type": "code",
   "execution_count": 4,
   "metadata": {},
   "outputs": [
    {
     "data": {
      "text/html": [
       "<div>\n",
       "<style scoped>\n",
       "    .dataframe tbody tr th:only-of-type {\n",
       "        vertical-align: middle;\n",
       "    }\n",
       "\n",
       "    .dataframe tbody tr th {\n",
       "        vertical-align: top;\n",
       "    }\n",
       "\n",
       "    .dataframe thead th {\n",
       "        text-align: right;\n",
       "    }\n",
       "</style>\n",
       "<table border=\"1\" class=\"dataframe\">\n",
       "  <thead>\n",
       "    <tr style=\"text-align: right;\">\n",
       "      <th></th>\n",
       "      <th>Unnamed: 0</th>\n",
       "      <th>image_count</th>\n",
       "      <th>price</th>\n",
       "    </tr>\n",
       "  </thead>\n",
       "  <tbody>\n",
       "    <tr>\n",
       "      <th>count</th>\n",
       "      <td>53301.000000</td>\n",
       "      <td>53301.000000</td>\n",
       "      <td>5.330100e+04</td>\n",
       "    </tr>\n",
       "    <tr>\n",
       "      <th>mean</th>\n",
       "      <td>31069.344459</td>\n",
       "      <td>1.671451</td>\n",
       "      <td>6.887984e+05</td>\n",
       "    </tr>\n",
       "    <tr>\n",
       "      <th>std</th>\n",
       "      <td>17954.316898</td>\n",
       "      <td>1.371914</td>\n",
       "      <td>5.505624e+05</td>\n",
       "    </tr>\n",
       "    <tr>\n",
       "      <th>min</th>\n",
       "      <td>0.000000</td>\n",
       "      <td>0.000000</td>\n",
       "      <td>1.000000e+00</td>\n",
       "    </tr>\n",
       "    <tr>\n",
       "      <th>25%</th>\n",
       "      <td>15529.000000</td>\n",
       "      <td>0.000000</td>\n",
       "      <td>2.700000e+05</td>\n",
       "    </tr>\n",
       "    <tr>\n",
       "      <th>50%</th>\n",
       "      <td>31076.000000</td>\n",
       "      <td>2.000000</td>\n",
       "      <td>5.200000e+05</td>\n",
       "    </tr>\n",
       "    <tr>\n",
       "      <th>75%</th>\n",
       "      <td>46634.000000</td>\n",
       "      <td>3.000000</td>\n",
       "      <td>9.500000e+05</td>\n",
       "    </tr>\n",
       "    <tr>\n",
       "      <th>max</th>\n",
       "      <td>62175.000000</td>\n",
       "      <td>11.000000</td>\n",
       "      <td>2.800000e+06</td>\n",
       "    </tr>\n",
       "  </tbody>\n",
       "</table>\n",
       "</div>"
      ],
      "text/plain": [
       "         Unnamed: 0   image_count         price\n",
       "count  53301.000000  53301.000000  5.330100e+04\n",
       "mean   31069.344459      1.671451  6.887984e+05\n",
       "std    17954.316898      1.371914  5.505624e+05\n",
       "min        0.000000      0.000000  1.000000e+00\n",
       "25%    15529.000000      0.000000  2.700000e+05\n",
       "50%    31076.000000      2.000000  5.200000e+05\n",
       "75%    46634.000000      3.000000  9.500000e+05\n",
       "max    62175.000000     11.000000  2.800000e+06"
      ]
     },
     "execution_count": 4,
     "metadata": {},
     "output_type": "execute_result"
    }
   ],
   "source": [
    "data.describe()"
   ]
  },
  {
   "cell_type": "markdown",
   "metadata": {},
   "source": [
    "Here we can see distribution of data, and we can see that we have alot of data near zero and we should take care of this matter."
   ]
  },
  {
   "cell_type": "code",
   "execution_count": 5,
   "metadata": {
    "scrolled": false
   },
   "outputs": [
    {
     "data": {
      "text/plain": [
       "<matplotlib.axes._subplots.AxesSubplot at 0x7f96bf933390>"
      ]
     },
     "execution_count": 5,
     "metadata": {},
     "output_type": "execute_result"
    },
    {
     "data": {
      "image/png": "[encoded data removed]",
      "text/plain": [
       "<Figure size 1080x720 with 1 Axes>"
      ]
     },
     "metadata": {
      "needs_background": "light"
     },
     "output_type": "display_data"
    }
   ],
   "source": [
    "plt.figure(figsize=(15,10))\n",
    "plt.tight_layout()\n",
    "sns.distplot(data['price'])"
   ]
  },
  {
   "cell_type": "markdown",
   "metadata": {},
   "source": [
    "# Data Preprocessing"
   ]
  },
  {
   "cell_type": "markdown",
   "metadata": {},
   "source": [
    "The first step in each Machine Learning project is data preprocessing. Here we are going through this to make the best out of the given data. I will explain what I am done for this part:\n",
    "\n",
    "* **Brand and City**: Brand and City are categorical data and we can deal with them with two different approaches. The first one is using `label encoding`, which assigns one number to each category. The second one is using `one-hot encoding`, which will assign different columns to each category. Before we start transforming our data, it is important to figure out if the feature we are working on is `ordinal` or `nominal`. An ordinal feature is best described as a feature with natural, ordered categories and the distances between the categories is not known. We can use LabelEncoder for ordinal features not nominal features. But in nominal features we can’t replace the categories by a number since this would imply the features have an order, which is untrue in case of Brand and City. So we should use a nominal encoding. The most popular way to encode nominal features is one-hot-encoding. Essentially, each categorical feature with n categories is transformed into n binary features. If the cardinality of the categorical features is low (relative to the amount of data) one-hot encoding will work best. But if the cardinality is large and the dataset is small, one-hot encoding may not be feasible, and regressor may not be able to efficiently learn. I implement both method and I will compare them using `Mutual Infomation` soon.\n",
    "\n",
    "\n",
    "* **Desc and Title**: These features are text written in the Persian language. But there are some English words between them that are mostly models of the cellphones. So, I decided to separate English and Persian to do some operation on them separately. I will explain them in the `Feature extraction` part. At first, I delete punctuation and replace them with nothing to get rid of them. Then, I find English words and convert them to lowercase and then delete the ones with just one letter because they can't give us any information. Then, I separate Persian words and do some works on them. At first, I use Normalization, tokenization, deleting stop words, and lemmatization, respectively. I explained what Stemming and Lemmatization are in the end of this section and I use the former because it work better. After these steps, I have two clean columns for Persian and English words and I can use them in the feature extraction phase.\n",
    "\n",
    "\n",
    "* **image_count and created_at**: These two features seem useless in our problem because they can't give us any information on the price of the cellphones. So, I delete created_at in this step and show you that image_count is useless too in the `Mutual Information` part.\n",
    "\n",
    "#### Stemming\n",
    "Stemming is the process of reducing inflection in words to their root forms such as mapping a group of words to the same stem even if the stem itself is not a valid word in the Language.\n",
    "\n",
    "#### Lemmatization\n",
    "Lemmatization, unlike Stemming, reduces the inflected words properly ensuring that the root word belongs to the language. In Lemmatization root word is called Lemma. A lemma (plural lemmas or lemmata) is the canonical form, dictionary form, or citation form of a set of words."
   ]
  },
  {
   "cell_type": "code",
   "execution_count": 6,
   "metadata": {},
   "outputs": [
    {
     "data": {
      "text/html": [
       "<div>\n",
       "<style scoped>\n",
       "    .dataframe tbody tr th:only-of-type {\n",
       "        vertical-align: middle;\n",
       "    }\n",
       "\n",
       "    .dataframe tbody tr th {\n",
       "        vertical-align: top;\n",
       "    }\n",
       "\n",
       "    .dataframe thead th {\n",
       "        text-align: right;\n",
       "    }\n",
       "</style>\n",
       "<table border=\"1\" class=\"dataframe\">\n",
       "  <thead>\n",
       "    <tr style=\"text-align: right;\">\n",
       "      <th></th>\n",
       "      <th>title</th>\n",
       "      <th>desc</th>\n",
       "      <th>image_count</th>\n",
       "      <th>price</th>\n",
       "      <th>english words</th>\n",
       "      <th>processed text</th>\n",
       "      <th>Brand Number</th>\n",
       "      <th>City Number</th>\n",
       "    </tr>\n",
       "  </thead>\n",
       "  <tbody>\n",
       "    <tr>\n",
       "      <th>0</th>\n",
       "      <td>نوکیا6303</td>\n",
       "      <td>سلامیه گوشیه6303سالم که فقط دوتا خط کوچیک رو ا...</td>\n",
       "      <td>2</td>\n",
       "      <td>60000</td>\n",
       "      <td>[6303, 6303]</td>\n",
       "      <td>[سلامیه, گوشیه, سالم, دوتا, خط, کوچیک, ال, سی,...</td>\n",
       "      <td>5</td>\n",
       "      <td>-0.047405</td>\n",
       "    </tr>\n",
       "    <tr>\n",
       "      <th>1</th>\n",
       "      <td>ایفون ٥اس٣٢گیگ</td>\n",
       "      <td>درحد نو سالم اصلى بدون ضربه مهلت تست میدم</td>\n",
       "      <td>0</td>\n",
       "      <td>1150000</td>\n",
       "      <td>[]</td>\n",
       "      <td>[درحد, نو, سالم, اصلى, ضربه, مهلت, تست, میدم, ...</td>\n",
       "      <td>0</td>\n",
       "      <td>1.028868</td>\n",
       "    </tr>\n",
       "    <tr>\n",
       "      <th>2</th>\n",
       "      <td>سامسونگ j5</td>\n",
       "      <td>گوشى بسیار بسیار تمیز و فقط سه هفته کارکرده و ...</td>\n",
       "      <td>2</td>\n",
       "      <td>590000</td>\n",
       "      <td>[]</td>\n",
       "      <td>[گوشى, بسیار, بسیار, تمیز, هفته, کارکرده, حد, آک]</td>\n",
       "      <td>6</td>\n",
       "      <td>-0.406163</td>\n",
       "    </tr>\n",
       "    <tr>\n",
       "      <th>3</th>\n",
       "      <td>گرى 5s ایفون  32گیگ</td>\n",
       "      <td>گلس پشت و رو کارت اپل ای دی لوازم جانبی اصلی م...</td>\n",
       "      <td>3</td>\n",
       "      <td>1100000</td>\n",
       "      <td>[]</td>\n",
       "      <td>[گلس, پشت, کارت, اپل, دی, لوازم, جانبی, اصل, م...</td>\n",
       "      <td>0</td>\n",
       "      <td>-1.123678</td>\n",
       "    </tr>\n",
       "    <tr>\n",
       "      <th>4</th>\n",
       "      <td>galaxy S5 Gold در حد آک</td>\n",
       "      <td>کاملا تمیز و بدون حتی 1 خط و خش\\nبه همراه گلاس...</td>\n",
       "      <td>2</td>\n",
       "      <td>900000</td>\n",
       "      <td>[galaxy, gold]</td>\n",
       "      <td>[کاملا, تمیز, حتی, خط, خش, همراه, گلاس, قاب, م...</td>\n",
       "      <td>6</td>\n",
       "      <td>1.028868</td>\n",
       "    </tr>\n",
       "  </tbody>\n",
       "</table>\n",
       "</div>"
      ],
      "text/plain": [
       "                     title                                               desc  \\\n",
       "0                نوکیا6303  سلامیه گوشیه6303سالم که فقط دوتا خط کوچیک رو ا...   \n",
       "1           ایفون ٥اس٣٢گیگ          درحد نو سالم اصلى بدون ضربه مهلت تست میدم   \n",
       "2               سامسونگ j5  گوشى بسیار بسیار تمیز و فقط سه هفته کارکرده و ...   \n",
       "3      گرى 5s ایفون  32گیگ  گلس پشت و رو کارت اپل ای دی لوازم جانبی اصلی م...   \n",
       "4  galaxy S5 Gold در حد آک  کاملا تمیز و بدون حتی 1 خط و خش\\nبه همراه گلاس...   \n",
       "\n",
       "   image_count    price   english words  \\\n",
       "0            2    60000    [6303, 6303]   \n",
       "1            0  1150000              []   \n",
       "2            2   590000              []   \n",
       "3            3  1100000              []   \n",
       "4            2   900000  [galaxy, gold]   \n",
       "\n",
       "                                      processed text  Brand Number  \\\n",
       "0  [سلامیه, گوشیه, سالم, دوتا, خط, کوچیک, ال, سی,...             5   \n",
       "1  [درحد, نو, سالم, اصلى, ضربه, مهلت, تست, میدم, ...             0   \n",
       "2  [گوشى, بسیار, بسیار, تمیز, هفته, کارکرده, حد, آک]             6   \n",
       "3  [گلس, پشت, کارت, اپل, دی, لوازم, جانبی, اصل, م...             0   \n",
       "4  [کاملا, تمیز, حتی, خط, خش, همراه, گلاس, قاب, م...             6   \n",
       "\n",
       "   City Number  \n",
       "0    -0.047405  \n",
       "1     1.028868  \n",
       "2    -0.406163  \n",
       "3    -1.123678  \n",
       "4     1.028868  "
      ]
     },
     "execution_count": 6,
     "metadata": {},
     "output_type": "execute_result"
    }
   ],
   "source": [
    "def dataPreprocessing(data):\n",
    "    \n",
    "    stop_words = codecs.open('stopwords', encoding='utf-8').read().split('\\n')\n",
    "\n",
    "    OneHotEncodeOfBrand = pd.get_dummies(data.brand)\n",
    "    OneHotEncodeOfCity = pd.get_dummies(data.city)\n",
    "    \n",
    "    data['desc'] = data['desc'].apply(lambda elem: elem.translate(str.maketrans('', '', string.punctuation)))\n",
    "    data['title'] = data['title'].apply(lambda elem: elem.translate(str.maketrans('', '', string.punctuation)))\n",
    "    \n",
    "    data['english words'] = data['desc'].apply(lambda text : (\" \".join(re.findall(\"[0-9a-zA-Z]+\", text))).lower().split()) + data['title'].apply(lambda text : (\" \".join(re.findall(\"[0-9a-zA-Z]+\", text))).lower().split())\n",
    "    data['english words'] = data['english words'].apply(lambda words: [word for word in words if len(word) > 2])    \n",
    "    \n",
    "    normalizer = Normalizer(persian_numbers = False)\n",
    "    data['processed desc'] = data['desc'].apply(normalizer.normalize)\n",
    "    data['processed title'] = data['title'].apply(normalizer.normalize)\n",
    "    \n",
    "    data['processed desc'] = data['processed desc'].apply(word_tokenize)\n",
    "    data['processed title'] = data['processed title'].apply(word_tokenize)\n",
    "    \n",
    "    data['processed text'] = data['processed desc'] + data['processed title']\n",
    "    \n",
    "    data['processed text'] = data['processed text'].apply(lambda words: [word for word in words if not word.isascii()])\n",
    "    \n",
    "    stop_words = codecs.open('stopwords', encoding='utf-8').read().split('\\n')\n",
    "    data['processed text'] = data['processed text'].apply(lambda words: [word for word in words if word not in (stop_words)])\n",
    "    \n",
    "    lemmatizer = Lemmatizer()\n",
    "    data['processed text'] = data['processed text'].apply(lambda words: [lemmatizer.lemmatize(i) for i in words])\n",
    "\n",
    "    le = LabelEncoder()\n",
    "    \n",
    "    le.fit(data['brand'].astype(str))\n",
    "    data['Brand Number'] = le.transform(data['brand'].astype(str))\n",
    "    \n",
    "    le.fit(data['city'].astype(str))\n",
    "    data['City Number'] = le.transform(data['city'].astype(str))\n",
    "    \n",
    "    scaler = StandardScaler()\n",
    "    data['City Number'] = scaler.fit_transform(data['City Number'].values.reshape(-1,1))\n",
    "    \n",
    "    data = data.drop(columns = [data.columns[0], 'created_at', 'brand', 'city', 'processed desc', 'processed title'])\n",
    "  \n",
    "    return data, OneHotEncodeOfBrand, OneHotEncodeOfCity\n",
    "\n",
    "data, OneHotEncodeOfBrand, OneHotEncodeOfCity = dataPreprocessing(data)\n",
    "data.head()"
   ]
  },
  {
   "cell_type": "markdown",
   "metadata": {},
   "source": [
    "# Spliting Train and Test Data"
   ]
  },
  {
   "cell_type": "markdown",
   "metadata": {},
   "source": [
    "In the next step, we should extract as many features as we can from our data. If we extract good features from our data we can train better models and it means fewer errors we got in each of our results. For extracting features, we should first separate train and test data set because we are going to test our test dataset and we shouldn't use it in extracting features."
   ]
  },
  {
   "cell_type": "code",
   "execution_count": 7,
   "metadata": {},
   "outputs": [],
   "source": [
    "columns = [x for x in data.columns if x not in ['price']]\n",
    "\n",
    "X = data[columns] \n",
    "y = data['price']\n",
    "\n",
    "X_train, X_test, y_train, y_test = train_test_split(X, y, test_size=0.2, random_state=10)"
   ]
  },
  {
   "cell_type": "markdown",
   "metadata": {},
   "source": [
    "# Feature extraction"
   ]
  },
  {
   "cell_type": "markdown",
   "metadata": {},
   "source": [
    "The next step in each machine learning project is the extraction of features. This phase is very important because it has a direct effect on how much our model has errors. So we should do our best in this phase. One method of feature extraction is using of `bag of words`, but here we can't use it because we have lots of unique words, about `70000` just Persian, and we have that much data to handle this much features. So, here I find the frequency of appearance of each word and select most 200 frequent words for English words and most 300 frequent words for Persian words. With this, we have 500 features that are representing how many words come in the text and it is possible that these words can be useful in training our model. After selecting the most frequent words, I normalized numbers of their appearance because they were large numbers and maybe biased our models.\n",
    "\n",
    "One popular method in feature extraction is the `TF-IDF` method, which somehow works like the work I do here manually and we got familiar with it in our third computer assignment. But it has some drawbacks which I will explain them more at the end of the project."
   ]
  },
  {
   "cell_type": "code",
   "execution_count": 8,
   "metadata": {
    "scrolled": true
   },
   "outputs": [
    {
     "name": "stdout",
     "output_type": "stream",
     "text": [
      "super 0.0011887151310228234\n",
      "620 0.000977387996618766\n",
      "422 0.0025095097210481826\n",
      "550 0.000977387996618766\n",
      "310 0.0008717244294167371\n",
      "350 0.0010302197802197802\n",
      "g630 0.004120879120879121\n",
      "mini 0.005653000845308538\n",
      "128g 0.001452874049027895\n",
      "iphone6s 0.0011094674556213018\n"
     ]
    }
   ],
   "source": [
    "def count_english_word(data):\n",
    "    \n",
    "    words = dict()\n",
    "    def increment(word):\n",
    "        words[word] = 1 + words.get(word, 0)\n",
    "    \n",
    "    data['english words'].apply(lambda words: [increment(word) for word in words])\n",
    "\n",
    "    sorted_count = sorted(words.items(), key=lambda kv: kv[1], reverse=True)\n",
    "    sorted_count = sorted_count[:200]\n",
    "    \n",
    "    count = [x[1] for x in sorted_count]\n",
    "    words = [x[0] for x in sorted_count]\n",
    "    \n",
    "    normalize_count = [float(i)/sum(count) for i in count]\n",
    "    \n",
    "    english_counted_word = dict(zip(words, normalize_count))\n",
    "    \n",
    "    return english_counted_word\n",
    "\n",
    "english_counted_word = count_english_word(X_train)\n",
    "random_keys = random.sample(english_counted_word.keys(),10)\n",
    "temp = [print(key, english_counted_word[key]) for key in random_keys]"
   ]
  },
  {
   "cell_type": "code",
   "execution_count": 9,
   "metadata": {
    "scrolled": true
   },
   "outputs": [
    {
     "name": "stdout",
     "output_type": "stream",
     "text": [
      "خش 0.01925817352713652\n",
      "نمیدم 0.0009364439558649892\n",
      "کارکرده 0.0022687277481463386\n",
      "گذاشت#گذار 0.0015946690552773367\n",
      "پای 0.0023546815411967484\n",
      "برچسب 0.001124185135422463\n",
      "زنگ 0.002024438020529385\n",
      "قیمت 0.012160199774710584\n",
      "برای 0.002958620034471995\n",
      "ویتنام 0.0009387058977873684\n"
     ]
    }
   ],
   "source": [
    "def persian_word_feature(data):\n",
    "    \n",
    "    words = dict()\n",
    "    def increment(word):\n",
    "        words[word] = 1 + words.get(word, 0)\n",
    "    \n",
    "    data['processed text'].apply(lambda words: [increment(word) for word in words])\n",
    "\n",
    "    sorted_count = sorted(words.items(), key=lambda kv: kv[1], reverse=True)\n",
    "    sorted_count = sorted_count[:300]\n",
    "\n",
    "    count = [x[1] for x in sorted_count]\n",
    "    words = [x[0] for x in sorted_count]\n",
    "    \n",
    "    normalize_count = [float(i)/sum(count) for i in count]\n",
    "    \n",
    "    persian_counted_word = dict(zip(words, normalize_count))\n",
    "    \n",
    "    return persian_counted_word\n",
    "\n",
    "persian_counted_word = persian_word_feature(X_train)\n",
    "random_keys = random.sample(persian_counted_word.keys(),10)\n",
    "temp = [print(key, persian_counted_word[key]) for key in random_keys]"
   ]
  },
  {
   "cell_type": "code",
   "execution_count": 10,
   "metadata": {},
   "outputs": [
    {
     "data": {
      "text/html": [
       "<div>\n",
       "<style scoped>\n",
       "    .dataframe tbody tr th:only-of-type {\n",
       "        vertical-align: middle;\n",
       "    }\n",
       "\n",
       "    .dataframe tbody tr th {\n",
       "        vertical-align: top;\n",
       "    }\n",
       "\n",
       "    .dataframe thead th {\n",
       "        text-align: right;\n",
       "    }\n",
       "</style>\n",
       "<table border=\"1\" class=\"dataframe\">\n",
       "  <thead>\n",
       "    <tr style=\"text-align: right;\">\n",
       "      <th></th>\n",
       "      <th>num</th>\n",
       "      <th>iphone</th>\n",
       "      <th>lla</th>\n",
       "      <th>htc</th>\n",
       "      <th>gold</th>\n",
       "      <th>galaxy</th>\n",
       "      <th>samsung</th>\n",
       "      <th>2016</th>\n",
       "      <th>16g</th>\n",
       "      <th>sony</th>\n",
       "      <th>...</th>\n",
       "      <th>آب</th>\n",
       "      <th>فاکتور</th>\n",
       "      <th>عامل</th>\n",
       "      <th>وتمیز</th>\n",
       "      <th>بدین</th>\n",
       "      <th>بدنه</th>\n",
       "      <th>حالا</th>\n",
       "      <th>کابل</th>\n",
       "      <th>چرم</th>\n",
       "      <th>دوماه</th>\n",
       "    </tr>\n",
       "  </thead>\n",
       "  <tbody>\n",
       "    <tr>\n",
       "      <th>0</th>\n",
       "      <td>0.0</td>\n",
       "      <td>0.0</td>\n",
       "      <td>0.0</td>\n",
       "      <td>0.0</td>\n",
       "      <td>0.00000</td>\n",
       "      <td>0.000000</td>\n",
       "      <td>0.0</td>\n",
       "      <td>0.0</td>\n",
       "      <td>0.0</td>\n",
       "      <td>0.0</td>\n",
       "      <td>...</td>\n",
       "      <td>0.0</td>\n",
       "      <td>0.0</td>\n",
       "      <td>0.0</td>\n",
       "      <td>0.0</td>\n",
       "      <td>0.0</td>\n",
       "      <td>0.0</td>\n",
       "      <td>0.0</td>\n",
       "      <td>0.0</td>\n",
       "      <td>0.0</td>\n",
       "      <td>0.0</td>\n",
       "    </tr>\n",
       "    <tr>\n",
       "      <th>1</th>\n",
       "      <td>0.0</td>\n",
       "      <td>0.0</td>\n",
       "      <td>0.0</td>\n",
       "      <td>0.0</td>\n",
       "      <td>0.00000</td>\n",
       "      <td>0.000000</td>\n",
       "      <td>0.0</td>\n",
       "      <td>0.0</td>\n",
       "      <td>0.0</td>\n",
       "      <td>0.0</td>\n",
       "      <td>...</td>\n",
       "      <td>0.0</td>\n",
       "      <td>0.0</td>\n",
       "      <td>0.0</td>\n",
       "      <td>0.0</td>\n",
       "      <td>0.0</td>\n",
       "      <td>0.0</td>\n",
       "      <td>0.0</td>\n",
       "      <td>0.0</td>\n",
       "      <td>0.0</td>\n",
       "      <td>0.0</td>\n",
       "    </tr>\n",
       "    <tr>\n",
       "      <th>2</th>\n",
       "      <td>0.0</td>\n",
       "      <td>0.0</td>\n",
       "      <td>0.0</td>\n",
       "      <td>0.0</td>\n",
       "      <td>0.00000</td>\n",
       "      <td>0.000000</td>\n",
       "      <td>0.0</td>\n",
       "      <td>0.0</td>\n",
       "      <td>0.0</td>\n",
       "      <td>0.0</td>\n",
       "      <td>...</td>\n",
       "      <td>0.0</td>\n",
       "      <td>0.0</td>\n",
       "      <td>0.0</td>\n",
       "      <td>0.0</td>\n",
       "      <td>0.0</td>\n",
       "      <td>0.0</td>\n",
       "      <td>0.0</td>\n",
       "      <td>0.0</td>\n",
       "      <td>0.0</td>\n",
       "      <td>0.0</td>\n",
       "    </tr>\n",
       "    <tr>\n",
       "      <th>3</th>\n",
       "      <td>0.0</td>\n",
       "      <td>0.0</td>\n",
       "      <td>0.0</td>\n",
       "      <td>0.0</td>\n",
       "      <td>0.00000</td>\n",
       "      <td>0.000000</td>\n",
       "      <td>0.0</td>\n",
       "      <td>0.0</td>\n",
       "      <td>0.0</td>\n",
       "      <td>0.0</td>\n",
       "      <td>...</td>\n",
       "      <td>0.0</td>\n",
       "      <td>0.0</td>\n",
       "      <td>0.0</td>\n",
       "      <td>0.0</td>\n",
       "      <td>0.0</td>\n",
       "      <td>0.0</td>\n",
       "      <td>0.0</td>\n",
       "      <td>0.0</td>\n",
       "      <td>0.0</td>\n",
       "      <td>0.0</td>\n",
       "    </tr>\n",
       "    <tr>\n",
       "      <th>4</th>\n",
       "      <td>0.0</td>\n",
       "      <td>0.0</td>\n",
       "      <td>0.0</td>\n",
       "      <td>0.0</td>\n",
       "      <td>0.03059</td>\n",
       "      <td>0.025967</td>\n",
       "      <td>0.0</td>\n",
       "      <td>0.0</td>\n",
       "      <td>0.0</td>\n",
       "      <td>0.0</td>\n",
       "      <td>...</td>\n",
       "      <td>0.0</td>\n",
       "      <td>0.0</td>\n",
       "      <td>0.0</td>\n",
       "      <td>0.0</td>\n",
       "      <td>0.0</td>\n",
       "      <td>0.0</td>\n",
       "      <td>0.0</td>\n",
       "      <td>0.0</td>\n",
       "      <td>0.0</td>\n",
       "      <td>0.0</td>\n",
       "    </tr>\n",
       "  </tbody>\n",
       "</table>\n",
       "<p>5 rows × 500 columns</p>\n",
       "</div>"
      ],
      "text/plain": [
       "   num  iphone  lla  htc     gold    galaxy  samsung  2016  16g  sony  ...  \\\n",
       "0  0.0     0.0  0.0  0.0  0.00000  0.000000      0.0   0.0  0.0   0.0  ...   \n",
       "1  0.0     0.0  0.0  0.0  0.00000  0.000000      0.0   0.0  0.0   0.0  ...   \n",
       "2  0.0     0.0  0.0  0.0  0.00000  0.000000      0.0   0.0  0.0   0.0  ...   \n",
       "3  0.0     0.0  0.0  0.0  0.00000  0.000000      0.0   0.0  0.0   0.0  ...   \n",
       "4  0.0     0.0  0.0  0.0  0.03059  0.025967      0.0   0.0  0.0   0.0  ...   \n",
       "\n",
       "    آب  فاکتور  عامل  وتمیز  بدین  بدنه  حالا  کابل  چرم  دوماه  \n",
       "0  0.0     0.0   0.0    0.0   0.0   0.0   0.0   0.0  0.0    0.0  \n",
       "1  0.0     0.0   0.0    0.0   0.0   0.0   0.0   0.0  0.0    0.0  \n",
       "2  0.0     0.0   0.0    0.0   0.0   0.0   0.0   0.0  0.0    0.0  \n",
       "3  0.0     0.0   0.0    0.0   0.0   0.0   0.0   0.0  0.0    0.0  \n",
       "4  0.0     0.0   0.0    0.0   0.0   0.0   0.0   0.0  0.0    0.0  \n",
       "\n",
       "[5 rows x 500 columns]"
      ]
     },
     "execution_count": 10,
     "metadata": {},
     "output_type": "execute_result"
    }
   ],
   "source": [
    "def makeWordDataFrame(data, english_counted_word, persian_counted_word):\n",
    "    word_df = pd.DataFrame()\n",
    "\n",
    "    for word in english_counted_word.keys():\n",
    "        word_df[word] = data['english words'].apply(lambda text: [english_counted_word[word] for i in text if i == word])\n",
    "    \n",
    "    for word in persian_counted_word.keys():\n",
    "        word_df[word] = data['processed text'].apply(lambda text: [persian_counted_word[word] for i in text if i == word])\n",
    "        \n",
    "    for col in word_df.columns.values:\n",
    "        word_df[col] = word_df[col].apply(lambda array: array[0] if len(array) > 0 else 0)\n",
    "    \n",
    "    return word_df\n",
    "\n",
    "word_df = makeWordDataFrame(data, english_counted_word, persian_counted_word)\n",
    "word_df.head()"
   ]
  },
  {
   "cell_type": "markdown",
   "metadata": {},
   "source": [
    "# Mutual Information"
   ]
  },
  {
   "cell_type": "markdown",
   "metadata": {},
   "source": [
    "Now is the time to evaluate our features power. We use the `Regression Mutual Infomation` method here, which is similar to the `Information Gain`, but it is for continuous problems. The words that we extract are very a lot and surely they have very low mutual information and here I don't calculate them. Here as it's obvious from the figure below, `Brand One-Hot encoding` has the best mutual information value and so I use this feature. But `City One-Hot Encoding` doesn't have a notable difference with `City Label Encode` and because I don't want to add not required columns to our dataset, I use its label encode feature. Here we can see that `image_count` has very low mutual information so, it is useless in our model and I remove it from my dataset."
   ]
  },
  {
   "cell_type": "code",
   "execution_count": 11,
   "metadata": {},
   "outputs": [],
   "source": [
    "features = ['City Number', 'Brand Number', 'image_count']\n",
    "X = data[features]\n",
    "y = data['price']\n",
    "information_gain = mutual_info_regression(X, y, random_state = 10)\n",
    "OneHotEncodeofBrandInformation_gain = mutual_info_regression(OneHotEncodeOfBrand, y, random_state = 10)\n",
    "OneHotEncodeofCityInformation_gain = mutual_info_regression(OneHotEncodeOfCity, y, random_state = 10)"
   ]
  },
  {
   "cell_type": "code",
   "execution_count": 12,
   "metadata": {},
   "outputs": [
    {
     "data": {
      "image/png": "[encoded data removed]",
      "text/plain": [
       "<Figure size 432x288 with 1 Axes>"
      ]
     },
     "metadata": {
      "needs_background": "light"
     },
     "output_type": "display_data"
    }
   ],
   "source": [
    "fig = plt.figure()\n",
    "ax = fig.add_axes([0,0,3,2])\n",
    "ax.bar(np.concatenate((features, ['Brand One Hot Encoding', 'City One Hot Encoding'])), np.concatenate((information_gain, [sum(OneHotEncodeofBrandInformation_gain), sum(OneHotEncodeofCityInformation_gain)])))\n",
    "plt.title('Mutual Information Gain')\n",
    "plt.show()"
   ]
  },
  {
   "cell_type": "markdown",
   "metadata": {},
   "source": [
    "# Training"
   ]
  },
  {
   "cell_type": "markdown",
   "metadata": {},
   "source": [
    "Now we are going to train our model with different algorithm. At first I seperate train and test data again to make a dataset I want to be trained. I use same `random_state` value and it will return same data as last phases. I define two functions for `evaluation` the result and `showing` some samples of predicted values."
   ]
  },
  {
   "cell_type": "code",
   "execution_count": 13,
   "metadata": {},
   "outputs": [
    {
     "data": {
      "text/html": [
       "<div>\n",
       "<style scoped>\n",
       "    .dataframe tbody tr th:only-of-type {\n",
       "        vertical-align: middle;\n",
       "    }\n",
       "\n",
       "    .dataframe tbody tr th {\n",
       "        vertical-align: top;\n",
       "    }\n",
       "\n",
       "    .dataframe thead th {\n",
       "        text-align: right;\n",
       "    }\n",
       "</style>\n",
       "<table border=\"1\" class=\"dataframe\">\n",
       "  <thead>\n",
       "    <tr style=\"text-align: right;\">\n",
       "      <th></th>\n",
       "      <th>City Number</th>\n",
       "      <th>Apple::اپل</th>\n",
       "      <th>HTC::اچ‌تی‌سی</th>\n",
       "      <th>Huawei::هوآوی</th>\n",
       "      <th>LG::ال‌جی</th>\n",
       "      <th>Lenovo::لنوو</th>\n",
       "      <th>Nokia::نوکیا</th>\n",
       "      <th>Samsung::سامسونگ</th>\n",
       "      <th>Sony::سونی</th>\n",
       "      <th>ZTE::زدتی‌ای</th>\n",
       "      <th>...</th>\n",
       "      <th>آب</th>\n",
       "      <th>فاکتور</th>\n",
       "      <th>عامل</th>\n",
       "      <th>وتمیز</th>\n",
       "      <th>بدین</th>\n",
       "      <th>بدنه</th>\n",
       "      <th>حالا</th>\n",
       "      <th>کابل</th>\n",
       "      <th>چرم</th>\n",
       "      <th>دوماه</th>\n",
       "    </tr>\n",
       "  </thead>\n",
       "  <tbody>\n",
       "    <tr>\n",
       "      <th>5049</th>\n",
       "      <td>1.028868</td>\n",
       "      <td>1</td>\n",
       "      <td>0</td>\n",
       "      <td>0</td>\n",
       "      <td>0</td>\n",
       "      <td>0</td>\n",
       "      <td>0</td>\n",
       "      <td>0</td>\n",
       "      <td>0</td>\n",
       "      <td>0</td>\n",
       "      <td>...</td>\n",
       "      <td>0.0</td>\n",
       "      <td>0.000726</td>\n",
       "      <td>0.0</td>\n",
       "      <td>0.0</td>\n",
       "      <td>0.0</td>\n",
       "      <td>0.0</td>\n",
       "      <td>0.0</td>\n",
       "      <td>0.0</td>\n",
       "      <td>0.0</td>\n",
       "      <td>0.0</td>\n",
       "    </tr>\n",
       "    <tr>\n",
       "      <th>18372</th>\n",
       "      <td>1.028868</td>\n",
       "      <td>0</td>\n",
       "      <td>0</td>\n",
       "      <td>0</td>\n",
       "      <td>0</td>\n",
       "      <td>0</td>\n",
       "      <td>0</td>\n",
       "      <td>1</td>\n",
       "      <td>0</td>\n",
       "      <td>0</td>\n",
       "      <td>...</td>\n",
       "      <td>0.0</td>\n",
       "      <td>0.000000</td>\n",
       "      <td>0.0</td>\n",
       "      <td>0.0</td>\n",
       "      <td>0.0</td>\n",
       "      <td>0.0</td>\n",
       "      <td>0.0</td>\n",
       "      <td>0.0</td>\n",
       "      <td>0.0</td>\n",
       "      <td>0.0</td>\n",
       "    </tr>\n",
       "    <tr>\n",
       "      <th>35287</th>\n",
       "      <td>-0.406163</td>\n",
       "      <td>0</td>\n",
       "      <td>0</td>\n",
       "      <td>0</td>\n",
       "      <td>0</td>\n",
       "      <td>0</td>\n",
       "      <td>0</td>\n",
       "      <td>1</td>\n",
       "      <td>0</td>\n",
       "      <td>0</td>\n",
       "      <td>...</td>\n",
       "      <td>0.0</td>\n",
       "      <td>0.000000</td>\n",
       "      <td>0.0</td>\n",
       "      <td>0.0</td>\n",
       "      <td>0.0</td>\n",
       "      <td>0.0</td>\n",
       "      <td>0.0</td>\n",
       "      <td>0.0</td>\n",
       "      <td>0.0</td>\n",
       "      <td>0.0</td>\n",
       "    </tr>\n",
       "    <tr>\n",
       "      <th>34879</th>\n",
       "      <td>-0.406163</td>\n",
       "      <td>0</td>\n",
       "      <td>0</td>\n",
       "      <td>0</td>\n",
       "      <td>0</td>\n",
       "      <td>0</td>\n",
       "      <td>0</td>\n",
       "      <td>0</td>\n",
       "      <td>1</td>\n",
       "      <td>0</td>\n",
       "      <td>...</td>\n",
       "      <td>0.0</td>\n",
       "      <td>0.000000</td>\n",
       "      <td>0.0</td>\n",
       "      <td>0.0</td>\n",
       "      <td>0.0</td>\n",
       "      <td>0.0</td>\n",
       "      <td>0.0</td>\n",
       "      <td>0.0</td>\n",
       "      <td>0.0</td>\n",
       "      <td>0.0</td>\n",
       "    </tr>\n",
       "    <tr>\n",
       "      <th>50914</th>\n",
       "      <td>0.670110</td>\n",
       "      <td>0</td>\n",
       "      <td>0</td>\n",
       "      <td>0</td>\n",
       "      <td>0</td>\n",
       "      <td>0</td>\n",
       "      <td>0</td>\n",
       "      <td>1</td>\n",
       "      <td>0</td>\n",
       "      <td>0</td>\n",
       "      <td>...</td>\n",
       "      <td>0.0</td>\n",
       "      <td>0.000000</td>\n",
       "      <td>0.0</td>\n",
       "      <td>0.0</td>\n",
       "      <td>0.0</td>\n",
       "      <td>0.0</td>\n",
       "      <td>0.0</td>\n",
       "      <td>0.0</td>\n",
       "      <td>0.0</td>\n",
       "      <td>0.0</td>\n",
       "    </tr>\n",
       "  </tbody>\n",
       "</table>\n",
       "<p>5 rows × 510 columns</p>\n",
       "</div>"
      ],
      "text/plain": [
       "       City Number  Apple::اپل  HTC::اچ‌تی‌سی  Huawei::هوآوی  LG::ال‌جی  \\\n",
       "5049      1.028868           1              0              0          0   \n",
       "18372     1.028868           0              0              0          0   \n",
       "35287    -0.406163           0              0              0          0   \n",
       "34879    -0.406163           0              0              0          0   \n",
       "50914     0.670110           0              0              0          0   \n",
       "\n",
       "       Lenovo::لنوو  Nokia::نوکیا  Samsung::سامسونگ  Sony::سونی  ZTE::زدتی‌ای  \\\n",
       "5049              0             0                 0           0             0   \n",
       "18372             0             0                 1           0             0   \n",
       "35287             0             0                 1           0             0   \n",
       "34879             0             0                 0           1             0   \n",
       "50914             0             0                 1           0             0   \n",
       "\n",
       "       ...   آب    فاکتور  عامل  وتمیز  بدین  بدنه  حالا  کابل  چرم  دوماه  \n",
       "5049   ...  0.0  0.000726   0.0    0.0   0.0   0.0   0.0   0.0  0.0    0.0  \n",
       "18372  ...  0.0  0.000000   0.0    0.0   0.0   0.0   0.0   0.0  0.0    0.0  \n",
       "35287  ...  0.0  0.000000   0.0    0.0   0.0   0.0   0.0   0.0  0.0    0.0  \n",
       "34879  ...  0.0  0.000000   0.0    0.0   0.0   0.0   0.0   0.0  0.0    0.0  \n",
       "50914  ...  0.0  0.000000   0.0    0.0   0.0   0.0   0.0   0.0  0.0    0.0  \n",
       "\n",
       "[5 rows x 510 columns]"
      ]
     },
     "execution_count": 13,
     "metadata": {},
     "output_type": "execute_result"
    }
   ],
   "source": [
    "columns = ['City Number']\n",
    "\n",
    "X = data[columns] \n",
    "X = X.join(OneHotEncodeOfBrand)\n",
    "X = X.join(word_df)\n",
    "\n",
    "y = data['price']\n",
    "X_train, X_test, y_train, y_test = train_test_split(X, y, test_size=0.2, random_state=10)\n",
    "X_train.head()"
   ]
  },
  {
   "cell_type": "markdown",
   "metadata": {},
   "source": [
    "### Evaluation Metrics"
   ]
  },
  {
   "cell_type": "markdown",
   "metadata": {},
   "source": [
    "Here I use three metrics for evaluation `Mean Absolute Error`, `Mean Squared Error`, and `Root Mean Squared Error`. MSE in our problem is very big and can't give us much information. But about MAE and RMSE:\n",
    "\n",
    "* **Mean Squared Error**: MAE measures the average magnitude of the errors in a set of predictions, without considering their direction. It’s the average over the test sample of the absolute differences between prediction and actual observation where all individual differences have equal weight.\n",
    "\n",
    "<img src=\"Images/MAE.gif\" width=\"250px\" />\n",
    "\n",
    "* **Root Mean Squared Error**: RMSE is a quadratic scoring rule that also measures the average magnitude of the error. It’s the square root of the average of squared differences between prediction and actual observation.\n",
    "<img src=\"Images/RMSE.png\"  width=\"250px\"/>\n",
    "\n",
    "They are almost the same but the difference between them is:\n",
    "\n",
    "**Differences**: Taking the square root of the average squared errors has some interesting implications for RMSE. Since the errors are squared before they are averaged, the RMSE gives a relatively high weight to large errors. This means the RMSE should be more useful when large errors are particularly undesirable. The three tables below show examples where MAE is steady and RMSE increases as the variance associated with the frequency distribution of error magnitudes also increases.\n",
    "\n",
    "In our problem, I think because we have very large numbers it is better to work with `MAE`."
   ]
  },
  {
   "cell_type": "code",
   "execution_count": 14,
   "metadata": {},
   "outputs": [],
   "source": [
    "def evaluation(y_train, train_predict, y_test, test_predict):\n",
    "\n",
    "    table = pd.DataFrame([], index=['Mean Absolute Error','Mean Squared Error', 'Root Mean Squared Error'], columns=['Train Dataset', 'Test Dataset'])\n",
    "    \n",
    "    table.loc['Mean Absolute Error']['Train Dataset'] = metrics.mean_absolute_error(y_train, train_predict)\n",
    "    table.loc['Mean Absolute Error']['Test Dataset'] = metrics.mean_absolute_error(y_test, test_predict)\n",
    "    \n",
    "    table.loc['Mean Squared Error']['Train Dataset'] = metrics.mean_squared_error(y_train, train_predict) \n",
    "    table.loc['Mean Squared Error']['Test Dataset'] = metrics.mean_squared_error(y_test, test_predict)\n",
    "    \n",
    "    table.loc['Root Mean Squared Error']['Train Dataset'] = np.sqrt(metrics.mean_squared_error(y_train, train_predict))\n",
    "    table.loc['Root Mean Squared Error']['Test Dataset'] = np.sqrt(metrics.mean_squared_error(y_test, test_predict))\n",
    "    \n",
    "    return table"
   ]
  },
  {
   "cell_type": "code",
   "execution_count": 15,
   "metadata": {},
   "outputs": [],
   "source": [
    "def show_test_result(y_test, test_predict):    \n",
    "    test_df = pd.DataFrame({'Test Actual': y_test, 'Test Predicted': test_predict}).sample(n = 10)\n",
    "    return test_df"
   ]
  },
  {
   "cell_type": "markdown",
   "metadata": {},
   "source": [
    "## Linear Regression"
   ]
  },
  {
   "cell_type": "markdown",
   "metadata": {},
   "source": [
    "The most simple way of traning a regression model is using the `Linear Regression` algorrithm. This Algorithm hasn't any specific parameter to tune. LinearRegression fits a linear model with coefficients to minimize the residual sum of squares between the observed targets in the dataset, and the targets predicted by the linear approximation. Mathematically it solves a problem of the form:\n",
    "<img src=\"Images/Linear.png\" width=\"250\"/>\n",
    "\n",
    "The result is not very bad, but we should use more complex models because our model isn't linear."
   ]
  },
  {
   "cell_type": "code",
   "execution_count": 16,
   "metadata": {},
   "outputs": [
    {
     "data": {
      "text/html": [
       "<div>\n",
       "<style scoped>\n",
       "    .dataframe tbody tr th:only-of-type {\n",
       "        vertical-align: middle;\n",
       "    }\n",
       "\n",
       "    .dataframe tbody tr th {\n",
       "        vertical-align: top;\n",
       "    }\n",
       "\n",
       "    .dataframe thead th {\n",
       "        text-align: right;\n",
       "    }\n",
       "</style>\n",
       "<table border=\"1\" class=\"dataframe\">\n",
       "  <thead>\n",
       "    <tr style=\"text-align: right;\">\n",
       "      <th></th>\n",
       "      <th>Train Dataset</th>\n",
       "      <th>Test Dataset</th>\n",
       "    </tr>\n",
       "  </thead>\n",
       "  <tbody>\n",
       "    <tr>\n",
       "      <th>Mean Absolute Error</th>\n",
       "      <td>255176</td>\n",
       "      <td>261138</td>\n",
       "    </tr>\n",
       "    <tr>\n",
       "      <th>Mean Squared Error</th>\n",
       "      <td>1.23382e+11</td>\n",
       "      <td>1.30098e+11</td>\n",
       "    </tr>\n",
       "    <tr>\n",
       "      <th>Root Mean Squared Error</th>\n",
       "      <td>351258</td>\n",
       "      <td>360690</td>\n",
       "    </tr>\n",
       "  </tbody>\n",
       "</table>\n",
       "</div>"
      ],
      "text/plain": [
       "                        Train Dataset Test Dataset\n",
       "Mean Absolute Error            255176       261138\n",
       "Mean Squared Error        1.23382e+11  1.30098e+11\n",
       "Root Mean Squared Error        351258       360690"
      ]
     },
     "execution_count": 16,
     "metadata": {},
     "output_type": "execute_result"
    }
   ],
   "source": [
    "def LinearRegressionMethod(X_train, X_test, y_train, y_test):\n",
    "    \n",
    "    linear_regression = LinearRegression()\n",
    "    linear_regression = linear_regression.fit(X_train, y_train)\n",
    "    test_predict = linear_regression.predict(X_test)\n",
    "    train_predict = linear_regression.predict(X_train)\n",
    "   \n",
    "    return test_predict, train_predict\n",
    "    \n",
    "test_predict, train_predict = LinearRegressionMethod(X_train, X_test, y_train, y_test)\n",
    "result = evaluation(y_train, train_predict, y_test, test_predict)\n",
    "result"
   ]
  },
  {
   "cell_type": "code",
   "execution_count": 17,
   "metadata": {},
   "outputs": [
    {
     "data": {
      "text/html": [
       "<div>\n",
       "<style scoped>\n",
       "    .dataframe tbody tr th:only-of-type {\n",
       "        vertical-align: middle;\n",
       "    }\n",
       "\n",
       "    .dataframe tbody tr th {\n",
       "        vertical-align: top;\n",
       "    }\n",
       "\n",
       "    .dataframe thead th {\n",
       "        text-align: right;\n",
       "    }\n",
       "</style>\n",
       "<table border=\"1\" class=\"dataframe\">\n",
       "  <thead>\n",
       "    <tr style=\"text-align: right;\">\n",
       "      <th></th>\n",
       "      <th>Test Actual</th>\n",
       "      <th>Test Predicted</th>\n",
       "    </tr>\n",
       "  </thead>\n",
       "  <tbody>\n",
       "    <tr>\n",
       "      <th>3676</th>\n",
       "      <td>700000</td>\n",
       "      <td>1132592.0</td>\n",
       "    </tr>\n",
       "    <tr>\n",
       "      <th>1538</th>\n",
       "      <td>20000</td>\n",
       "      <td>210288.0</td>\n",
       "    </tr>\n",
       "    <tr>\n",
       "      <th>55206</th>\n",
       "      <td>450000</td>\n",
       "      <td>837456.0</td>\n",
       "    </tr>\n",
       "    <tr>\n",
       "      <th>4979</th>\n",
       "      <td>550000</td>\n",
       "      <td>606880.0</td>\n",
       "    </tr>\n",
       "    <tr>\n",
       "      <th>4529</th>\n",
       "      <td>65000</td>\n",
       "      <td>514272.0</td>\n",
       "    </tr>\n",
       "    <tr>\n",
       "      <th>30970</th>\n",
       "      <td>750000</td>\n",
       "      <td>769376.0</td>\n",
       "    </tr>\n",
       "    <tr>\n",
       "      <th>35612</th>\n",
       "      <td>750000</td>\n",
       "      <td>1133168.0</td>\n",
       "    </tr>\n",
       "    <tr>\n",
       "      <th>16216</th>\n",
       "      <td>600000</td>\n",
       "      <td>278896.0</td>\n",
       "    </tr>\n",
       "    <tr>\n",
       "      <th>20974</th>\n",
       "      <td>220000</td>\n",
       "      <td>447200.0</td>\n",
       "    </tr>\n",
       "    <tr>\n",
       "      <th>27552</th>\n",
       "      <td>400000</td>\n",
       "      <td>705728.0</td>\n",
       "    </tr>\n",
       "  </tbody>\n",
       "</table>\n",
       "</div>"
      ],
      "text/plain": [
       "       Test Actual  Test Predicted\n",
       "3676        700000       1132592.0\n",
       "1538         20000        210288.0\n",
       "55206       450000        837456.0\n",
       "4979        550000        606880.0\n",
       "4529         65000        514272.0\n",
       "30970       750000        769376.0\n",
       "35612       750000       1133168.0\n",
       "16216       600000        278896.0\n",
       "20974       220000        447200.0\n",
       "27552       400000        705728.0"
      ]
     },
     "execution_count": 17,
     "metadata": {},
     "output_type": "execute_result"
    }
   ],
   "source": [
    "result = show_test_result(y_test, test_predict)\n",
    "result"
   ]
  },
  {
   "cell_type": "markdown",
   "metadata": {},
   "source": [
    "## Ridge Regression"
   ]
  },
  {
   "cell_type": "markdown",
   "metadata": {},
   "source": [
    "Ridge regression addresses some of the problems of Ordinary Least Squares by imposing a penalty on the size of the coefficients. The ridge coefficients minimize a penalized residual sum of squares:\n",
    "\n",
    "<img src=\"Images/Ridge.png\" width=\"250\" />\n",
    "\n",
    "As it's obvious from the figure, with lower `alpha` we have better result, so I put the smallest alpha possible as best alpha parameter."
   ]
  },
  {
   "cell_type": "code",
   "execution_count": 18,
   "metadata": {},
   "outputs": [
    {
     "data": {
      "image/png": "[encoded data removed]",
      "text/plain": [
       "<Figure size 432x288 with 1 Axes>"
      ]
     },
     "metadata": {
      "needs_background": "light"
     },
     "output_type": "display_data"
    }
   ],
   "source": [
    "def RidgeRegressionTuning():\n",
    "    \n",
    "    trainMAE, testMAE= [], []\n",
    "    alpha = 1\n",
    "    alphaList = []\n",
    "    while alpha > np.finfo(np.float32).eps:\n",
    "        reg = linear_model.Ridge(alpha = alpha)\n",
    "        reg = reg.fit(X_train, y_train)\n",
    "        test_predict = reg.predict(X_test)\n",
    "        train_predict = reg.predict(X_train)\n",
    "        testMAE.insert(0, metrics.mean_absolute_error(y_test, test_predict))\n",
    "        trainMAE.insert(0, metrics.mean_absolute_error(y_train, train_predict))\n",
    "        alphaList.insert(0, alpha)\n",
    "        alpha = alpha / 2\n",
    "        \n",
    "    plt.plot(alphaList, testMAE, label='Test')\n",
    "    plt.plot(alphaList, trainMAE, label='Train')\n",
    "    plt.ylabel('Mean Absolute Error')\n",
    "    plt.xlabel('Depth')\n",
    "    plt.title('Random Forest Regression')\n",
    "    plt.legend()\n",
    "    plt.show()\n",
    "    \n",
    "RidgeRegressionTuning()"
   ]
  },
  {
   "cell_type": "code",
   "execution_count": 19,
   "metadata": {},
   "outputs": [
    {
     "data": {
      "text/html": [
       "<div>\n",
       "<style scoped>\n",
       "    .dataframe tbody tr th:only-of-type {\n",
       "        vertical-align: middle;\n",
       "    }\n",
       "\n",
       "    .dataframe tbody tr th {\n",
       "        vertical-align: top;\n",
       "    }\n",
       "\n",
       "    .dataframe thead th {\n",
       "        text-align: right;\n",
       "    }\n",
       "</style>\n",
       "<table border=\"1\" class=\"dataframe\">\n",
       "  <thead>\n",
       "    <tr style=\"text-align: right;\">\n",
       "      <th></th>\n",
       "      <th>Train Dataset</th>\n",
       "      <th>Test Dataset</th>\n",
       "    </tr>\n",
       "  </thead>\n",
       "  <tbody>\n",
       "    <tr>\n",
       "      <th>Mean Absolute Error</th>\n",
       "      <td>255201</td>\n",
       "      <td>261139</td>\n",
       "    </tr>\n",
       "    <tr>\n",
       "      <th>Mean Squared Error</th>\n",
       "      <td>1.23383e+11</td>\n",
       "      <td>1.3009e+11</td>\n",
       "    </tr>\n",
       "    <tr>\n",
       "      <th>Root Mean Squared Error</th>\n",
       "      <td>351259</td>\n",
       "      <td>360679</td>\n",
       "    </tr>\n",
       "  </tbody>\n",
       "</table>\n",
       "</div>"
      ],
      "text/plain": [
       "                        Train Dataset Test Dataset\n",
       "Mean Absolute Error            255201       261139\n",
       "Mean Squared Error        1.23383e+11   1.3009e+11\n",
       "Root Mean Squared Error        351259       360679"
      ]
     },
     "execution_count": 19,
     "metadata": {},
     "output_type": "execute_result"
    }
   ],
   "source": [
    "def RidgeRegressionMethod(best_alpha):\n",
    "    reg = linear_model.Ridge(alpha = best_alpha)\n",
    "    reg = reg.fit(X_train, y_train)\n",
    "    test_predict = reg.predict(X_test)\n",
    "    train_predict = reg.predict(X_train)\n",
    "    \n",
    "    return test_predict, train_predict\n",
    "\n",
    "best_alpha = 0\n",
    "test_predict, train_predict = RidgeRegressionMethod(best_alpha)\n",
    "result = evaluation(y_train, train_predict, y_test, test_predict)\n",
    "result"
   ]
  },
  {
   "cell_type": "markdown",
   "metadata": {},
   "source": [
    "## Lasso Regression"
   ]
  },
  {
   "cell_type": "markdown",
   "metadata": {},
   "source": [
    "The Lasso is a linear model that estimates sparse coefficients. It is useful in some contexts due to its tendency to prefer solutions with fewer non-zero coefficients, effectively reducing the number of features upon which the given solution is dependent. For this reason Lasso and its variants are fundamental to the field of compressed sensing. Under certain conditions, it can recover the exact set of non-zero coefficients.\n",
    "Mathematically, it consists of a linear model with an added regularization term. The objective function to minimize is:\n",
    "<img src=\"Images/Lasso.png\" width=\"250\"/>\n",
    "\n",
    "**Elastic-Net Regression**: ElasticNet is a linear regression model trained with both `l1` and `l2`-norm regularization of the coefficients. This combination allows for learning a sparse model where few of the weights are non-zero like Lasso, while still maintaining the regularization properties of Ridge. Here we don't get good result out of Ridge and Lasso, so I didn't try Elastic-Net."
   ]
  },
  {
   "cell_type": "code",
   "execution_count": 20,
   "metadata": {},
   "outputs": [
    {
     "name": "stderr",
     "output_type": "stream",
     "text": [
      "/Users/navid/Library/Python/3.7/lib/python/site-packages/sklearn/linear_model/_coordinate_descent.py:476: ConvergenceWarning: Objective did not converge. You might want to increase the number of iterations. Duality gap: 340476145594936.0, tolerance: 1286473988552.101\n",
      "  positive)\n"
     ]
    },
    {
     "data": {
      "text/html": [
       "<div>\n",
       "<style scoped>\n",
       "    .dataframe tbody tr th:only-of-type {\n",
       "        vertical-align: middle;\n",
       "    }\n",
       "\n",
       "    .dataframe tbody tr th {\n",
       "        vertical-align: top;\n",
       "    }\n",
       "\n",
       "    .dataframe thead th {\n",
       "        text-align: right;\n",
       "    }\n",
       "</style>\n",
       "<table border=\"1\" class=\"dataframe\">\n",
       "  <thead>\n",
       "    <tr style=\"text-align: right;\">\n",
       "      <th></th>\n",
       "      <th>Train Dataset</th>\n",
       "      <th>Test Dataset</th>\n",
       "    </tr>\n",
       "  </thead>\n",
       "  <tbody>\n",
       "    <tr>\n",
       "      <th>Mean Absolute Error</th>\n",
       "      <td>261449</td>\n",
       "      <td>266764</td>\n",
       "    </tr>\n",
       "    <tr>\n",
       "      <th>Mean Squared Error</th>\n",
       "      <td>1.27873e+11</td>\n",
       "      <td>1.33956e+11</td>\n",
       "    </tr>\n",
       "    <tr>\n",
       "      <th>Root Mean Squared Error</th>\n",
       "      <td>357594</td>\n",
       "      <td>366000</td>\n",
       "    </tr>\n",
       "  </tbody>\n",
       "</table>\n",
       "</div>"
      ],
      "text/plain": [
       "                        Train Dataset Test Dataset\n",
       "Mean Absolute Error            261449       266764\n",
       "Mean Squared Error        1.27873e+11  1.33956e+11\n",
       "Root Mean Squared Error        357594       366000"
      ]
     },
     "execution_count": 20,
     "metadata": {},
     "output_type": "execute_result"
    }
   ],
   "source": [
    "def LassoRegressionMethod():\n",
    "    reg = linear_model.Lasso(alpha = 0.5)\n",
    "    reg = reg.fit(X_train, y_train)\n",
    "    test_predict = reg.predict(X_test)\n",
    "    train_predict = reg.predict(X_train)\n",
    "    \n",
    "    return test_predict, train_predict\n",
    "\n",
    "test_predict, train_predict = LassoRegressionMethod()\n",
    "result = evaluation(y_train, train_predict, y_test, test_predict)\n",
    "result"
   ]
  },
  {
   "cell_type": "markdown",
   "metadata": {},
   "source": [
    "## Stochastic Gradient Decent Regression"
   ]
  },
  {
   "cell_type": "markdown",
   "metadata": {},
   "source": [
    "Stochastic gradient descent is a simple yet very efficient approach to fit linear models. It is particularly useful when the number of features is very large. Here we get very bad result out of this algorithm. This is maybe because we didn't tune our regressor. By tuning its parameters it should work better."
   ]
  },
  {
   "cell_type": "code",
   "execution_count": 21,
   "metadata": {},
   "outputs": [
    {
     "data": {
      "text/html": [
       "<div>\n",
       "<style scoped>\n",
       "    .dataframe tbody tr th:only-of-type {\n",
       "        vertical-align: middle;\n",
       "    }\n",
       "\n",
       "    .dataframe tbody tr th {\n",
       "        vertical-align: top;\n",
       "    }\n",
       "\n",
       "    .dataframe thead th {\n",
       "        text-align: right;\n",
       "    }\n",
       "</style>\n",
       "<table border=\"1\" class=\"dataframe\">\n",
       "  <thead>\n",
       "    <tr style=\"text-align: right;\">\n",
       "      <th></th>\n",
       "      <th>Train Dataset</th>\n",
       "      <th>Test Dataset</th>\n",
       "    </tr>\n",
       "  </thead>\n",
       "  <tbody>\n",
       "    <tr>\n",
       "      <th>Mean Absolute Error</th>\n",
       "      <td>329647</td>\n",
       "      <td>333903</td>\n",
       "    </tr>\n",
       "    <tr>\n",
       "      <th>Mean Squared Error</th>\n",
       "      <td>1.90268e+11</td>\n",
       "      <td>1.96444e+11</td>\n",
       "    </tr>\n",
       "    <tr>\n",
       "      <th>Root Mean Squared Error</th>\n",
       "      <td>436197</td>\n",
       "      <td>443220</td>\n",
       "    </tr>\n",
       "  </tbody>\n",
       "</table>\n",
       "</div>"
      ],
      "text/plain": [
       "                        Train Dataset Test Dataset\n",
       "Mean Absolute Error            329647       333903\n",
       "Mean Squared Error        1.90268e+11  1.96444e+11\n",
       "Root Mean Squared Error        436197       443220"
      ]
     },
     "execution_count": 21,
     "metadata": {},
     "output_type": "execute_result"
    }
   ],
   "source": [
    "def SGDRegressionMethod():\n",
    "    reg = linear_model.SGDRegressor()\n",
    "    reg = reg.fit(X_train, y_train)\n",
    "    test_predict = reg.predict(X_test)\n",
    "    train_predict = reg.predict(X_train)\n",
    "    \n",
    "    return test_predict, train_predict\n",
    "\n",
    "test_predict, train_predict = SGDRegressionMethod()\n",
    "result = evaluation(y_train, train_predict, y_test, test_predict)\n",
    "result"
   ]
  },
  {
   "cell_type": "markdown",
   "metadata": {},
   "source": [
    "# K Nearest Neighbors Regression"
   ]
  },
  {
   "cell_type": "markdown",
   "metadata": {},
   "source": [
    "Neighbors-based regression can be used in cases where the data labels are continuous rather than discrete variables. The label assigned to a query point is computed based on the mean of the labels of its nearest neighbors. Here we try to tune the `n_neighbors` parameter to finding best number of neighbors in our model."
   ]
  },
  {
   "cell_type": "code",
   "execution_count": 23,
   "metadata": {},
   "outputs": [
    {
     "data": {
      "image/png": "[encoded data removed]",
      "text/plain": [
       "<Figure size 432x288 with 1 Axes>"
      ]
     },
     "metadata": {
      "needs_background": "light"
     },
     "output_type": "display_data"
    },
    {
     "ename": "TypeError",
     "evalue": "cannot unpack non-iterable NoneType object",
     "output_type": "error",
     "traceback": [
      "\u001b[0;31m---------------------------------------------------------------------------\u001b[0m",
      "\u001b[0;31mTypeError\u001b[0m                                 Traceback (most recent call last)",
      "\u001b[0;32m<ipython-input-23-dd24cb0b645d>\u001b[0m in \u001b[0;36m<module>\u001b[0;34m\u001b[0m\n\u001b[1;32m     23\u001b[0m     \u001b[0mplt\u001b[0m\u001b[0;34m.\u001b[0m\u001b[0mshow\u001b[0m\u001b[0;34m(\u001b[0m\u001b[0;34m)\u001b[0m\u001b[0;34m\u001b[0m\u001b[0;34m\u001b[0m\u001b[0m\n\u001b[1;32m     24\u001b[0m \u001b[0;34m\u001b[0m\u001b[0m\n\u001b[0;32m---> 25\u001b[0;31m \u001b[0mtest_predict\u001b[0m\u001b[0;34m,\u001b[0m \u001b[0mtrain_predict\u001b[0m \u001b[0;34m=\u001b[0m \u001b[0mKneighborsRegressionTuning\u001b[0m\u001b[0;34m(\u001b[0m\u001b[0;34m)\u001b[0m\u001b[0;34m\u001b[0m\u001b[0;34m\u001b[0m\u001b[0m\n\u001b[0m",
      "\u001b[0;31mTypeError\u001b[0m: cannot unpack non-iterable NoneType object"
     ]
    }
   ],
   "source": [
    "def KneighborsRegressionTuning():\n",
    "    \n",
    "    trainMAE, testMAE= [], []\n",
    "    bestIndex = 0\n",
    "    minMAE = float('inf')\n",
    "    for i in list(range(1,10)):\n",
    "        KNN = KNeighborsRegressor(n_neighbors=i)\n",
    "        KNN = KNN.fit(X_train, y_train)\n",
    "        test_predict = KNN.predict(X_test)\n",
    "        train_predict = KNN.predict(X_train)\n",
    "        testMAE.append(metrics.mean_absolute_error(y_test, test_predict))\n",
    "        if metrics.mean_absolute_error(y_test, test_predict) < minMAE:\n",
    "            minMAE = metrics.mean_absolute_error(y_test, test_predict)\n",
    "            bestIndex = i\n",
    "        trainMAE.append(metrics.mean_absolute_error(y_train, train_predict))\n",
    "\n",
    "    plt.plot(list(range(1, 10)), testMAE, label='Test')\n",
    "    plt.plot(list(range(1, 10)), trainMAE, label='Train')\n",
    "    plt.ylabel('Mean Absolute Error')\n",
    "    plt.xlabel('Number of Neighbors')\n",
    "    plt.title('K Neighbors Regression')\n",
    "    plt.legend()\n",
    "    plt.show()\n",
    "    \n",
    "KneighborsRegressionTuning()"
   ]
  },
  {
   "cell_type": "code",
   "execution_count": 24,
   "metadata": {},
   "outputs": [
    {
     "data": {
      "text/html": [
       "<div>\n",
       "<style scoped>\n",
       "    .dataframe tbody tr th:only-of-type {\n",
       "        vertical-align: middle;\n",
       "    }\n",
       "\n",
       "    .dataframe tbody tr th {\n",
       "        vertical-align: top;\n",
       "    }\n",
       "\n",
       "    .dataframe thead th {\n",
       "        text-align: right;\n",
       "    }\n",
       "</style>\n",
       "<table border=\"1\" class=\"dataframe\">\n",
       "  <thead>\n",
       "    <tr style=\"text-align: right;\">\n",
       "      <th></th>\n",
       "      <th>Train Dataset</th>\n",
       "      <th>Test Dataset</th>\n",
       "    </tr>\n",
       "  </thead>\n",
       "  <tbody>\n",
       "    <tr>\n",
       "      <th>Mean Absolute Error</th>\n",
       "      <td>278139</td>\n",
       "      <td>312240</td>\n",
       "    </tr>\n",
       "    <tr>\n",
       "      <th>Mean Squared Error</th>\n",
       "      <td>1.46466e+11</td>\n",
       "      <td>1.8427e+11</td>\n",
       "    </tr>\n",
       "    <tr>\n",
       "      <th>Root Mean Squared Error</th>\n",
       "      <td>382709</td>\n",
       "      <td>429267</td>\n",
       "    </tr>\n",
       "  </tbody>\n",
       "</table>\n",
       "</div>"
      ],
      "text/plain": [
       "                        Train Dataset Test Dataset\n",
       "Mean Absolute Error            278139       312240\n",
       "Mean Squared Error        1.46466e+11   1.8427e+11\n",
       "Root Mean Squared Error        382709       429267"
      ]
     },
     "execution_count": 24,
     "metadata": {},
     "output_type": "execute_result"
    }
   ],
   "source": [
    "def KneighborsRegressionMethod(bestNumofNeighbor):\n",
    "    \n",
    "    KNN = KNeighborsRegressor(n_neighbors = bestNumofNeighbor)\n",
    "    KNN = KNN.fit(X_train, y_train)\n",
    "    test_predict = KNN.predict(X_test)\n",
    "    train_predict = KNN.predict(X_train)\n",
    "   \n",
    "    return test_predict, train_predict\n",
    "\n",
    "bestNumofNeighbor = 10\n",
    "test_predict, train_predict = KneighborsRegressionMethod(bestNumofNeighbor)\n",
    "result = evaluation(y_train, train_predict, y_test, test_predict)\n",
    "result"
   ]
  },
  {
   "cell_type": "markdown",
   "metadata": {},
   "source": [
    "## Decision Tree Regression"
   ]
  },
  {
   "cell_type": "markdown",
   "metadata": {},
   "source": [
    "Decision Trees are a non-parametric supervised learning method used for classification and regression. The goal is to create a model that predicts the value of a target variable by learning simple decision rules inferred from the data features. Here, I try to tune `max_depth` parameter to find best depth that our model can train. As we can see from result after tenth depth, data get overfitted. So, I use `10` as best depth for our model."
   ]
  },
  {
   "cell_type": "code",
   "execution_count": 25,
   "metadata": {},
   "outputs": [
    {
     "data": {
      "image/png": "[encoded data removed]",
      "text/plain": [
       "<Figure size 432x288 with 1 Axes>"
      ]
     },
     "metadata": {
      "needs_background": "light"
     },
     "output_type": "display_data"
    }
   ],
   "source": [
    "def DecisionTreeRegressionTuning():\n",
    "    \n",
    "    trainMAE, testMAE= [], []\n",
    "    bestIndex = 0\n",
    "    minMAE = float('inf')\n",
    "    for i in list(range(1,20)):\n",
    "        reg = tree.DecisionTreeRegressor(max_depth=i)\n",
    "        reg = reg.fit(X_train, y_train)\n",
    "        test_predict = reg.predict(X_test)\n",
    "        train_predict = reg.predict(X_train)\n",
    "        testMAE.append(metrics.mean_absolute_error(y_test, test_predict))\n",
    "        if metrics.mean_absolute_error(y_test, test_predict) < minMAE:\n",
    "            minMAE = metrics.mean_absolute_error(y_test, test_predict)\n",
    "            bestIndex = i\n",
    "        trainMAE.append(metrics.mean_absolute_error(y_train, train_predict))\n",
    "\n",
    "    plt.plot(list(range(1, 20)), testMAE, label='Test')\n",
    "    plt.plot(list(range(1, 20)), trainMAE, label='Train')\n",
    "    plt.ylabel('Mean Absolute Error')\n",
    "    plt.xlabel('Depth')\n",
    "    plt.title('Decision Tree Regression')\n",
    "    plt.legend()\n",
    "    plt.show()\n",
    "\n",
    "DecisionTreeRegressionTuning()"
   ]
  },
  {
   "cell_type": "code",
   "execution_count": 26,
   "metadata": {},
   "outputs": [
    {
     "data": {
      "text/html": [
       "<div>\n",
       "<style scoped>\n",
       "    .dataframe tbody tr th:only-of-type {\n",
       "        vertical-align: middle;\n",
       "    }\n",
       "\n",
       "    .dataframe tbody tr th {\n",
       "        vertical-align: top;\n",
       "    }\n",
       "\n",
       "    .dataframe thead th {\n",
       "        text-align: right;\n",
       "    }\n",
       "</style>\n",
       "<table border=\"1\" class=\"dataframe\">\n",
       "  <thead>\n",
       "    <tr style=\"text-align: right;\">\n",
       "      <th></th>\n",
       "      <th>Train Dataset</th>\n",
       "      <th>Test Dataset</th>\n",
       "    </tr>\n",
       "  </thead>\n",
       "  <tbody>\n",
       "    <tr>\n",
       "      <th>Mean Absolute Error</th>\n",
       "      <td>271047</td>\n",
       "      <td>286926</td>\n",
       "    </tr>\n",
       "    <tr>\n",
       "      <th>Mean Squared Error</th>\n",
       "      <td>1.40768e+11</td>\n",
       "      <td>1.60528e+11</td>\n",
       "    </tr>\n",
       "    <tr>\n",
       "      <th>Root Mean Squared Error</th>\n",
       "      <td>375191</td>\n",
       "      <td>400659</td>\n",
       "    </tr>\n",
       "  </tbody>\n",
       "</table>\n",
       "</div>"
      ],
      "text/plain": [
       "                        Train Dataset Test Dataset\n",
       "Mean Absolute Error            271047       286926\n",
       "Mean Squared Error        1.40768e+11  1.60528e+11\n",
       "Root Mean Squared Error        375191       400659"
      ]
     },
     "execution_count": 26,
     "metadata": {},
     "output_type": "execute_result"
    }
   ],
   "source": [
    "def DecisionTreeRegressionMethod(best_depth):\n",
    "    reg = tree.DecisionTreeRegressor(max_depth = best_depth)\n",
    "    reg = reg.fit(X_train, y_train)\n",
    "    test_predict = reg.predict(X_test)\n",
    "    train_predict = reg.predict(X_train)\n",
    "    \n",
    "    return test_predict, train_predict\n",
    "\n",
    "best_depth = 10\n",
    "test_predict, train_predict = DecisionTreeRegressionMethod(best_depth)\n",
    "result = evaluation(y_train, train_predict, y_test, test_predict)\n",
    "result"
   ]
  },
  {
   "cell_type": "markdown",
   "metadata": {},
   "source": [
    "## Random Forest Regression"
   ]
  },
  {
   "cell_type": "markdown",
   "metadata": {},
   "source": [
    "In random forests, each tree in the ensemble is built from a sample drawn with replacement (i.e., a bootstrap sample) from the training set. Furthermore, when splitting each node during the construction of a tree, the best split is found either from all input features or a random subset of size `max_features`.  Here, I try to tune `max_depth` parameter to find best depth that our model can train. As we can see from result as depth go further, we have better result. So, I use `20` as best depth for our model. If I have more time I would check for best depth."
   ]
  },
  {
   "cell_type": "code",
   "execution_count": 29,
   "metadata": {},
   "outputs": [
    {
     "data": {
      "image/png": "[encoded data removed]",
      "text/plain": [
       "<Figure size 432x288 with 1 Axes>"
      ]
     },
     "metadata": {
      "needs_background": "light"
     },
     "output_type": "display_data"
    }
   ],
   "source": [
    "def RandomForestRegressionTuning():\n",
    "    \n",
    "    trainMAE, testMAE= [], []\n",
    "    bestIndex = 0\n",
    "    minMAE = float('inf')\n",
    "    for i in list(range(1,10)):\n",
    "        RFreg = RandomForestRegressor(max_depth=i)\n",
    "        RFreg = RFreg.fit(X_train, y_train)\n",
    "        test_predict = RFreg.predict(X_test)\n",
    "        train_predict = RFreg.predict(X_train)\n",
    "        testMAE.append(metrics.mean_absolute_error(y_test, test_predict))\n",
    "        if metrics.mean_absolute_error(y_test, test_predict) < minMAE:\n",
    "            minMAE = metrics.mean_absolute_error(y_test, test_predict)\n",
    "            bestIndex = i\n",
    "        trainMAE.append(metrics.mean_absolute_error(y_train, train_predict))\n",
    "\n",
    "    plt.plot(list(range(1, 10)), testMAE, label='Test')\n",
    "    plt.plot(list(range(1, 10)), trainMAE, label='Train')\n",
    "    plt.ylabel('Mean Absolute Error')\n",
    "    plt.xlabel('Depth')\n",
    "    plt.title('Random Forest Regression')\n",
    "    plt.legend()\n",
    "    plt.show()\n",
    "    \n",
    "RandomForestRegressionTuning()"
   ]
  },
  {
   "cell_type": "code",
   "execution_count": 30,
   "metadata": {},
   "outputs": [
    {
     "data": {
      "text/html": [
       "<div>\n",
       "<style scoped>\n",
       "    .dataframe tbody tr th:only-of-type {\n",
       "        vertical-align: middle;\n",
       "    }\n",
       "\n",
       "    .dataframe tbody tr th {\n",
       "        vertical-align: top;\n",
       "    }\n",
       "\n",
       "    .dataframe thead th {\n",
       "        text-align: right;\n",
       "    }\n",
       "</style>\n",
       "<table border=\"1\" class=\"dataframe\">\n",
       "  <thead>\n",
       "    <tr style=\"text-align: right;\">\n",
       "      <th></th>\n",
       "      <th>Train Dataset</th>\n",
       "      <th>Test Dataset</th>\n",
       "    </tr>\n",
       "  </thead>\n",
       "  <tbody>\n",
       "    <tr>\n",
       "      <th>Mean Absolute Error</th>\n",
       "      <td>213348</td>\n",
       "      <td>254664</td>\n",
       "    </tr>\n",
       "    <tr>\n",
       "      <th>Mean Squared Error</th>\n",
       "      <td>8.99859e+10</td>\n",
       "      <td>1.3051e+11</td>\n",
       "    </tr>\n",
       "    <tr>\n",
       "      <th>Root Mean Squared Error</th>\n",
       "      <td>299977</td>\n",
       "      <td>361262</td>\n",
       "    </tr>\n",
       "  </tbody>\n",
       "</table>\n",
       "</div>"
      ],
      "text/plain": [
       "                        Train Dataset Test Dataset\n",
       "Mean Absolute Error            213348       254664\n",
       "Mean Squared Error        8.99859e+10   1.3051e+11\n",
       "Root Mean Squared Error        299977       361262"
      ]
     },
     "execution_count": 30,
     "metadata": {},
     "output_type": "execute_result"
    }
   ],
   "source": [
    "def RandomForestRegressionMethod(best_depth):\n",
    "    reg = RandomForestRegressor(max_depth = best_depth)\n",
    "    reg = reg.fit(X_train, y_train)\n",
    "    test_predict = reg.predict(X_test)\n",
    "    train_predict = reg.predict(X_train)\n",
    "    \n",
    "    return test_predict, train_predict, reg\n",
    "\n",
    "best_depth = 20\n",
    "test_predict, train_predict, reg = RandomForestRegressionMethod(best_depth)\n",
    "result = evaluation(y_train, train_predict, y_test, test_predict)\n",
    "result"
   ]
  },
  {
   "cell_type": "markdown",
   "metadata": {},
   "source": [
    "## Implementation of TF-IDF method"
   ]
  },
  {
   "cell_type": "markdown",
   "metadata": {},
   "source": [
    "As I said earlier, one method for dealing with text and extracting features is the `TF-IDF` method. Here, I use this method for training a model but it got overfitted and is not a good model to use. But the way I implement it is the easiest way that can be implemented, by using more complex methods and other features maybe it got better. I didn't have time to work on it. Here I explain how this method work:\n",
    "\n",
    "Suppose we have a document(or a collection of documents i.e, corpus), and we want to summarize it using a few keywords only. In the end, we want some method to compute the importance of each word.\n",
    "One way to approach this would be to count the no. of times a word appears in a document. So, the word’s importance is directly proportional to its frequency. This method is, therefore, called Term Frequency(TF).\n",
    "<img src=\"Images/1.png\" width=\"320\"/>\n",
    "This method fails in practical use as words like “the”, “an”, “a”, etc. will almost always be the result of this method, as they occur more frequently. But of course, they are not the right way to summarize our document.\n",
    "We also want to take into consideration how unique the words are, this method is called Inverse Document Frequency(IDF).\n",
    "<img src=\"Images/2.png\" width=\"320\"/>\n",
    "So, the product of TF and IDF will give us a measure of how frequent the word is in a document multiplied by how unique the word is, giving rise to Term Frequency-Inverse Document Frequency(TF-IDF) measure.<a href=\"https://medium.com/@hritikattri10/feature-extraction-using-tf-idf-algorithm-44eedb37305e\">[1]</a>\n",
    "<img src=\"Images/3.png\" width=\"200\"/>\n",
    "\n",
    "As its shown in the formula, in our model we calculated the TF and we just need to calculate the IDF and multiply it with the TF. So, we can calculate it in the Likelihood.\n"
   ]
  },
  {
   "cell_type": "code",
   "execution_count": 31,
   "metadata": {},
   "outputs": [
    {
     "data": {
      "text/html": [
       "<div>\n",
       "<style scoped>\n",
       "    .dataframe tbody tr th:only-of-type {\n",
       "        vertical-align: middle;\n",
       "    }\n",
       "\n",
       "    .dataframe tbody tr th {\n",
       "        vertical-align: top;\n",
       "    }\n",
       "\n",
       "    .dataframe thead th {\n",
       "        text-align: right;\n",
       "    }\n",
       "</style>\n",
       "<table border=\"1\" class=\"dataframe\">\n",
       "  <thead>\n",
       "    <tr style=\"text-align: right;\">\n",
       "      <th></th>\n",
       "      <th>Train Dataset</th>\n",
       "      <th>Test Dataset</th>\n",
       "    </tr>\n",
       "  </thead>\n",
       "  <tbody>\n",
       "    <tr>\n",
       "      <th>Mean Absolute Error</th>\n",
       "      <td>36670.2</td>\n",
       "      <td>429836</td>\n",
       "    </tr>\n",
       "    <tr>\n",
       "      <th>Mean Squared Error</th>\n",
       "      <td>1.02034e+10</td>\n",
       "      <td>3.74131e+11</td>\n",
       "    </tr>\n",
       "    <tr>\n",
       "      <th>Root Mean Squared Error</th>\n",
       "      <td>101012</td>\n",
       "      <td>611662</td>\n",
       "    </tr>\n",
       "  </tbody>\n",
       "</table>\n",
       "</div>"
      ],
      "text/plain": [
       "                        Train Dataset Test Dataset\n",
       "Mean Absolute Error           36670.2       429836\n",
       "Mean Squared Error        1.02034e+10  3.74131e+11\n",
       "Root Mean Squared Error        101012       611662"
      ]
     },
     "execution_count": 31,
     "metadata": {},
     "output_type": "execute_result"
    }
   ],
   "source": [
    "def TF_IDFMethod():\n",
    "    data['text'] = data['desc'] + data['title']\n",
    "    tf_X = data['text']\n",
    "    tf_y = data['price']\n",
    "    tf_X_train, tf_X_test, tf_y_train, tf_y_test = train_test_split(tf_X, tf_y, test_size=0.2, random_state=10)\n",
    "\n",
    "    text_clf = Pipeline([('tfidf', TfidfVectorizer()), ('clf', LinearRegression())])\n",
    "\n",
    "    text_clf.fit(tf_X_train, tf_y_train)\n",
    "    test_predict = text_clf.predict(tf_X_test)\n",
    "    train_predict = text_clf.predict(tf_X_train)\n",
    "\n",
    "    return test_predict, train_predict\n",
    "test_predict, train_predict = TF_IDFMethod()\n",
    "result = evaluation(y_train, train_predict, y_test, test_predict)\n",
    "result"
   ]
  },
  {
   "cell_type": "markdown",
   "metadata": {},
   "source": [
    "# Evaluation of Validation data"
   ]
  },
  {
   "cell_type": "markdown",
   "metadata": {},
   "source": [
    "Here, I used the best model we have through all regression models and predict the validation data and save them in one csv file"
   ]
  },
  {
   "cell_type": "code",
   "execution_count": 32,
   "metadata": {},
   "outputs": [],
   "source": [
    "def validation_result(validation_predict):    \n",
    "    validation_df = pd.DataFrame({'Validation Predicted': validation_predict})\n",
    "    return validation_df"
   ]
  },
  {
   "cell_type": "code",
   "execution_count": 33,
   "metadata": {},
   "outputs": [
    {
     "data": {
      "text/html": [
       "<div>\n",
       "<style scoped>\n",
       "    .dataframe tbody tr th:only-of-type {\n",
       "        vertical-align: middle;\n",
       "    }\n",
       "\n",
       "    .dataframe tbody tr th {\n",
       "        vertical-align: top;\n",
       "    }\n",
       "\n",
       "    .dataframe thead th {\n",
       "        text-align: right;\n",
       "    }\n",
       "</style>\n",
       "<table border=\"1\" class=\"dataframe\">\n",
       "  <thead>\n",
       "    <tr style=\"text-align: right;\">\n",
       "      <th></th>\n",
       "      <th>City Number</th>\n",
       "      <th>Apple::اپل</th>\n",
       "      <th>HTC::اچ‌تی‌سی</th>\n",
       "      <th>Huawei::هوآوی</th>\n",
       "      <th>LG::ال‌جی</th>\n",
       "      <th>Lenovo::لنوو</th>\n",
       "      <th>Nokia::نوکیا</th>\n",
       "      <th>Samsung::سامسونگ</th>\n",
       "      <th>Sony::سونی</th>\n",
       "      <th>ZTE::زدتی‌ای</th>\n",
       "      <th>...</th>\n",
       "      <th>آب</th>\n",
       "      <th>فاکتور</th>\n",
       "      <th>عامل</th>\n",
       "      <th>وتمیز</th>\n",
       "      <th>بدین</th>\n",
       "      <th>بدنه</th>\n",
       "      <th>حالا</th>\n",
       "      <th>کابل</th>\n",
       "      <th>چرم</th>\n",
       "      <th>دوماه</th>\n",
       "    </tr>\n",
       "  </thead>\n",
       "  <tbody>\n",
       "    <tr>\n",
       "      <th>23</th>\n",
       "      <td>-1.135717</td>\n",
       "      <td>0</td>\n",
       "      <td>0</td>\n",
       "      <td>0</td>\n",
       "      <td>0</td>\n",
       "      <td>0</td>\n",
       "      <td>0</td>\n",
       "      <td>1</td>\n",
       "      <td>0</td>\n",
       "      <td>0</td>\n",
       "      <td>...</td>\n",
       "      <td>0.0</td>\n",
       "      <td>0.0</td>\n",
       "      <td>0.0</td>\n",
       "      <td>0.0</td>\n",
       "      <td>0.0</td>\n",
       "      <td>0.0</td>\n",
       "      <td>0.0</td>\n",
       "      <td>0.0</td>\n",
       "      <td>0.0</td>\n",
       "      <td>0.0</td>\n",
       "    </tr>\n",
       "    <tr>\n",
       "      <th>28</th>\n",
       "      <td>-0.070722</td>\n",
       "      <td>1</td>\n",
       "      <td>0</td>\n",
       "      <td>0</td>\n",
       "      <td>0</td>\n",
       "      <td>0</td>\n",
       "      <td>0</td>\n",
       "      <td>0</td>\n",
       "      <td>0</td>\n",
       "      <td>0</td>\n",
       "      <td>...</td>\n",
       "      <td>0.0</td>\n",
       "      <td>0.0</td>\n",
       "      <td>0.0</td>\n",
       "      <td>0.0</td>\n",
       "      <td>0.0</td>\n",
       "      <td>0.0</td>\n",
       "      <td>0.0</td>\n",
       "      <td>0.0</td>\n",
       "      <td>0.0</td>\n",
       "      <td>0.0</td>\n",
       "    </tr>\n",
       "    <tr>\n",
       "      <th>32</th>\n",
       "      <td>0.284276</td>\n",
       "      <td>1</td>\n",
       "      <td>0</td>\n",
       "      <td>0</td>\n",
       "      <td>0</td>\n",
       "      <td>0</td>\n",
       "      <td>0</td>\n",
       "      <td>0</td>\n",
       "      <td>0</td>\n",
       "      <td>0</td>\n",
       "      <td>...</td>\n",
       "      <td>0.0</td>\n",
       "      <td>0.0</td>\n",
       "      <td>0.0</td>\n",
       "      <td>0.0</td>\n",
       "      <td>0.0</td>\n",
       "      <td>0.0</td>\n",
       "      <td>0.0</td>\n",
       "      <td>0.0</td>\n",
       "      <td>0.0</td>\n",
       "      <td>0.0</td>\n",
       "    </tr>\n",
       "    <tr>\n",
       "      <th>36</th>\n",
       "      <td>-0.070722</td>\n",
       "      <td>0</td>\n",
       "      <td>0</td>\n",
       "      <td>0</td>\n",
       "      <td>0</td>\n",
       "      <td>0</td>\n",
       "      <td>0</td>\n",
       "      <td>0</td>\n",
       "      <td>1</td>\n",
       "      <td>0</td>\n",
       "      <td>...</td>\n",
       "      <td>0.0</td>\n",
       "      <td>0.0</td>\n",
       "      <td>0.0</td>\n",
       "      <td>0.0</td>\n",
       "      <td>0.0</td>\n",
       "      <td>0.0</td>\n",
       "      <td>0.0</td>\n",
       "      <td>0.0</td>\n",
       "      <td>0.0</td>\n",
       "      <td>0.0</td>\n",
       "    </tr>\n",
       "    <tr>\n",
       "      <th>44</th>\n",
       "      <td>0.994273</td>\n",
       "      <td>0</td>\n",
       "      <td>1</td>\n",
       "      <td>0</td>\n",
       "      <td>0</td>\n",
       "      <td>0</td>\n",
       "      <td>0</td>\n",
       "      <td>0</td>\n",
       "      <td>0</td>\n",
       "      <td>0</td>\n",
       "      <td>...</td>\n",
       "      <td>0.0</td>\n",
       "      <td>0.0</td>\n",
       "      <td>0.0</td>\n",
       "      <td>0.0</td>\n",
       "      <td>0.0</td>\n",
       "      <td>0.0</td>\n",
       "      <td>0.0</td>\n",
       "      <td>0.0</td>\n",
       "      <td>0.0</td>\n",
       "      <td>0.0</td>\n",
       "    </tr>\n",
       "  </tbody>\n",
       "</table>\n",
       "<p>5 rows × 510 columns</p>\n",
       "</div>"
      ],
      "text/plain": [
       "    City Number  Apple::اپل  HTC::اچ‌تی‌سی  Huawei::هوآوی  LG::ال‌جی  \\\n",
       "23    -1.135717           0              0              0          0   \n",
       "28    -0.070722           1              0              0          0   \n",
       "32     0.284276           1              0              0          0   \n",
       "36    -0.070722           0              0              0          0   \n",
       "44     0.994273           0              1              0          0   \n",
       "\n",
       "    Lenovo::لنوو  Nokia::نوکیا  Samsung::سامسونگ  Sony::سونی  ZTE::زدتی‌ای  \\\n",
       "23             0             0                 1           0             0   \n",
       "28             0             0                 0           0             0   \n",
       "32             0             0                 0           0             0   \n",
       "36             0             0                 0           1             0   \n",
       "44             0             0                 0           0             0   \n",
       "\n",
       "    ...   آب  فاکتور  عامل  وتمیز  بدین  بدنه  حالا  کابل  چرم  دوماه  \n",
       "23  ...  0.0     0.0   0.0    0.0   0.0   0.0   0.0   0.0  0.0    0.0  \n",
       "28  ...  0.0     0.0   0.0    0.0   0.0   0.0   0.0   0.0  0.0    0.0  \n",
       "32  ...  0.0     0.0   0.0    0.0   0.0   0.0   0.0   0.0  0.0    0.0  \n",
       "36  ...  0.0     0.0   0.0    0.0   0.0   0.0   0.0   0.0  0.0    0.0  \n",
       "44  ...  0.0     0.0   0.0    0.0   0.0   0.0   0.0   0.0  0.0    0.0  \n",
       "\n",
       "[5 rows x 510 columns]"
      ]
     },
     "execution_count": 33,
     "metadata": {},
     "output_type": "execute_result"
    }
   ],
   "source": [
    "validation_data, validation_OneHotEncodeOfBrand, validation_OneHotEncodeOfCity = dataPreprocessing(validation_data)\n",
    "validation_word_df = makeWordDataFrame(validation_data, english_counted_word, persian_counted_word)\n",
    "\n",
    "columns = ['City Number']\n",
    "\n",
    "X_validation = validation_data[columns] \n",
    "X_validation = X_validation.join(validation_OneHotEncodeOfBrand)\n",
    "X_validation = X_validation.join(validation_word_df)\n",
    "X_validation.head()"
   ]
  },
  {
   "cell_type": "code",
   "execution_count": 34,
   "metadata": {},
   "outputs": [],
   "source": [
    "validation_predict = reg.predict(X_validation)"
   ]
  },
  {
   "cell_type": "code",
   "execution_count": 35,
   "metadata": {},
   "outputs": [
    {
     "data": {
      "text/html": [
       "<div>\n",
       "<style scoped>\n",
       "    .dataframe tbody tr th:only-of-type {\n",
       "        vertical-align: middle;\n",
       "    }\n",
       "\n",
       "    .dataframe tbody tr th {\n",
       "        vertical-align: top;\n",
       "    }\n",
       "\n",
       "    .dataframe thead th {\n",
       "        text-align: right;\n",
       "    }\n",
       "</style>\n",
       "<table border=\"1\" class=\"dataframe\">\n",
       "  <thead>\n",
       "    <tr style=\"text-align: right;\">\n",
       "      <th></th>\n",
       "      <th>Validation Predicted</th>\n",
       "    </tr>\n",
       "  </thead>\n",
       "  <tbody>\n",
       "    <tr>\n",
       "      <th>0</th>\n",
       "      <td>703987.057502</td>\n",
       "    </tr>\n",
       "    <tr>\n",
       "      <th>1</th>\n",
       "      <td>985996.857077</td>\n",
       "    </tr>\n",
       "    <tr>\n",
       "      <th>2</th>\n",
       "      <td>952223.987935</td>\n",
       "    </tr>\n",
       "    <tr>\n",
       "      <th>3</th>\n",
       "      <td>449456.294967</td>\n",
       "    </tr>\n",
       "    <tr>\n",
       "      <th>4</th>\n",
       "      <td>342411.401044</td>\n",
       "    </tr>\n",
       "  </tbody>\n",
       "</table>\n",
       "</div>"
      ],
      "text/plain": [
       "   Validation Predicted\n",
       "0         703987.057502\n",
       "1         985996.857077\n",
       "2         952223.987935\n",
       "3         449456.294967\n",
       "4         342411.401044"
      ]
     },
     "execution_count": 35,
     "metadata": {},
     "output_type": "execute_result"
    }
   ],
   "source": [
    "result = validation_result(validation_predict)\n",
    "result.head()"
   ]
  },
  {
   "cell_type": "code",
   "execution_count": 36,
   "metadata": {},
   "outputs": [],
   "source": [
    "result.to_csv('ValidationResult.csv')"
   ]
  },
  {
   "cell_type": "markdown",
   "metadata": {},
   "source": [
    "# Ideas for Improving"
   ]
  },
  {
   "cell_type": "markdown",
   "metadata": {},
   "source": [
    "Here I explain some improving idea:\n",
    "    \n",
    "* **Neural Network**: In this project, we could use the Neural Network algorithm to find the best model for our data, but because of the little time we had for this project, it was very risky and maybe we couldn't find a good model for our data. Because finding a good Neural Network model is a hard problem and need an expert to fit a good model to data.\n",
    "\n",
    "* **TF-IDF**: Here, I use the simplest `TF-IDF` method with the most basic regressor. By using a better algorithm and combining it with other features, maybe we can find a good model.\n",
    "\n",
    "* **Using More Complex Regression Method**: Here, I use a simple algorithm of regression by using more complex methods, maybe we could have a better model."
   ]
  }
 ],
 "metadata": {
  "kernelspec": {
   "display_name": "Python 3",
   "language": "python",
   "name": "python3"
  },
  "language_info": {
   "codemirror_mode": {
    "name": "ipython",
    "version": 3
   },
   "file_extension": ".py",
   "mimetype": "text/x-python",
   "name": "python",
   "nbconvert_exporter": "python",
   "pygments_lexer": "ipython3",
   "version": "3.7.4"
  }
 },
 "nbformat": 4,
 "nbformat_minor": 2
}
